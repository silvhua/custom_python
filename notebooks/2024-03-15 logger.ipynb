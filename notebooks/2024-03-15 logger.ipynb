{
 "cells": [
  {
   "attachments": {},
   "cell_type": "markdown",
   "metadata": {},
   "source": [
    "# Title\n",
    "[]()"
   ]
  },
  {
   "cell_type": "code",
   "execution_count": 1,
   "metadata": {},
   "outputs": [],
   "source": [
    "\n",
    "import pandas as pd\n",
    "import sys\n",
    "sys.path.append(r\"C:\\Users\\silvh\\OneDrive\\lighthouse\\custom_python\")\n",
    "from silvhua import *"
   ]
  },
  {
   "cell_type": "code",
   "execution_count": 2,
   "metadata": {},
   "outputs": [],
   "source": [
    "result_dict = dict()\n",
    "messages_dict = {\n",
    "    'debug': 'Debug message',\n",
    "    'info': 'Info message',\n",
    "    'warning': 'Warning message',\n",
    "    'error': 'Error message',\n",
    "    'critical': 'Critical message'\n",
    "}"
   ]
  },
  {
   "cell_type": "markdown",
   "metadata": {},
   "source": [
    "# iteration 1"
   ]
  },
  {
   "cell_type": "code",
   "execution_count": 8,
   "metadata": {},
   "outputs": [
    {
     "name": "stderr",
     "output_type": "stream",
     "text": [
      "2024-03-15 21:31:59,967 - logger_1 - DEBUG - Debug message\n",
      "2024-03-15 21:31:59,967 - logger_1 - DEBUG - Debug message\n",
      "2024-03-15 21:31:59,967 - logger_1 - DEBUG - Debug message\n",
      "2024-03-15 21:31:59,971 - logger_1 - INFO - Info message\n",
      "2024-03-15 21:31:59,971 - logger_1 - INFO - Info message\n",
      "2024-03-15 21:31:59,971 - logger_1 - INFO - Info message\n",
      "2024-03-15 21:31:59,975 - logger_1 - WARNING - Warning message\n",
      "2024-03-15 21:31:59,975 - logger_1 - WARNING - Warning message\n",
      "2024-03-15 21:31:59,975 - logger_1 - WARNING - Warning message\n",
      "2024-03-15 21:31:59,980 - logger_1 - ERROR - Error message\n",
      "2024-03-15 21:31:59,980 - logger_1 - ERROR - Error message\n",
      "2024-03-15 21:31:59,980 - logger_1 - ERROR - Error message\n",
      "2024-03-15 21:31:59,985 - logger_1 - CRITICAL - Critical message\n",
      "2024-03-15 21:31:59,985 - logger_1 - CRITICAL - Critical message\n",
      "2024-03-15 21:31:59,985 - logger_1 - CRITICAL - Critical message\n",
      "2024-03-15 21:31:59,997 - logger_1 - DEBUG - Debug message\n",
      "2024-03-15 21:31:59,997 - logger_1 - DEBUG - Debug message\n",
      "2024-03-15 21:31:59,997 - logger_1 - DEBUG - Debug message\n",
      "2024-03-15 21:32:00,001 - logger_1 - INFO - Info message\n",
      "2024-03-15 21:32:00,001 - logger_1 - INFO - Info message\n",
      "2024-03-15 21:32:00,001 - logger_1 - INFO - Info message\n",
      "2024-03-15 21:32:00,005 - logger_1 - WARNING - Warning message\n",
      "2024-03-15 21:32:00,005 - logger_1 - WARNING - Warning message\n",
      "2024-03-15 21:32:00,005 - logger_1 - WARNING - Warning message\n",
      "2024-03-15 21:32:00,011 - logger_1 - ERROR - Error message\n",
      "2024-03-15 21:32:00,011 - logger_1 - ERROR - Error message\n",
      "2024-03-15 21:32:00,011 - logger_1 - ERROR - Error message\n",
      "2024-03-15 21:32:00,018 - logger_1 - CRITICAL - Critical message\n",
      "2024-03-15 21:32:00,018 - logger_1 - CRITICAL - Critical message\n",
      "2024-03-15 21:32:00,018 - logger_1 - CRITICAL - Critical message\n",
      "2024-03-15 21:32:00,023 - logger_1 - DEBUG - Debug message\n",
      "2024-03-15 21:32:00,023 - logger_1 - DEBUG - Debug message\n",
      "2024-03-15 21:32:00,023 - logger_1 - DEBUG - Debug message\n",
      "2024-03-15 21:32:00,031 - logger_1 - INFO - Info message\n",
      "2024-03-15 21:32:00,031 - logger_1 - INFO - Info message\n",
      "2024-03-15 21:32:00,031 - logger_1 - INFO - Info message\n",
      "2024-03-15 21:32:00,032 - logger_1 - WARNING - Warning message\n",
      "2024-03-15 21:32:00,032 - logger_1 - WARNING - Warning message\n",
      "2024-03-15 21:32:00,032 - logger_1 - WARNING - Warning message\n",
      "2024-03-15 21:32:00,036 - logger_1 - ERROR - Error message\n",
      "2024-03-15 21:32:00,036 - logger_1 - ERROR - Error message\n",
      "2024-03-15 21:32:00,036 - logger_1 - ERROR - Error message\n",
      "2024-03-15 21:32:00,045 - logger_1 - CRITICAL - Critical message\n",
      "2024-03-15 21:32:00,045 - logger_1 - CRITICAL - Critical message\n",
      "2024-03-15 21:32:00,045 - logger_1 - CRITICAL - Critical message\n",
      "2024-03-15 21:32:00,051 - logger_1 - DEBUG - Debug message\n",
      "2024-03-15 21:32:00,051 - logger_1 - DEBUG - Debug message\n",
      "2024-03-15 21:32:00,051 - logger_1 - DEBUG - Debug message\n",
      "2024-03-15 21:32:00,057 - logger_1 - INFO - Info message\n",
      "2024-03-15 21:32:00,057 - logger_1 - INFO - Info message\n",
      "2024-03-15 21:32:00,057 - logger_1 - INFO - Info message\n",
      "2024-03-15 21:32:00,062 - logger_1 - WARNING - Warning message\n",
      "2024-03-15 21:32:00,062 - logger_1 - WARNING - Warning message\n",
      "2024-03-15 21:32:00,062 - logger_1 - WARNING - Warning message\n",
      "2024-03-15 21:32:00,066 - logger_1 - ERROR - Error message\n",
      "2024-03-15 21:32:00,066 - logger_1 - ERROR - Error message\n",
      "2024-03-15 21:32:00,066 - logger_1 - ERROR - Error message\n",
      "2024-03-15 21:32:00,071 - logger_1 - CRITICAL - Critical message\n",
      "2024-03-15 21:32:00,071 - logger_1 - CRITICAL - Critical message\n",
      "2024-03-15 21:32:00,071 - logger_1 - CRITICAL - Critical message\n",
      "2024-03-15 21:32:00,076 - logger_1 - DEBUG - Debug message\n",
      "2024-03-15 21:32:00,076 - logger_1 - DEBUG - Debug message\n",
      "2024-03-15 21:32:00,076 - logger_1 - DEBUG - Debug message\n",
      "2024-03-15 21:32:00,080 - logger_1 - INFO - Info message\n",
      "2024-03-15 21:32:00,080 - logger_1 - INFO - Info message\n",
      "2024-03-15 21:32:00,080 - logger_1 - INFO - Info message\n",
      "2024-03-15 21:32:00,084 - logger_1 - WARNING - Warning message\n",
      "2024-03-15 21:32:00,084 - logger_1 - WARNING - Warning message\n",
      "2024-03-15 21:32:00,084 - logger_1 - WARNING - Warning message\n",
      "2024-03-15 21:32:00,088 - logger_1 - ERROR - Error message\n",
      "2024-03-15 21:32:00,088 - logger_1 - ERROR - Error message\n",
      "2024-03-15 21:32:00,088 - logger_1 - ERROR - Error message\n",
      "2024-03-15 21:32:00,093 - logger_1 - CRITICAL - Critical message\n",
      "2024-03-15 21:32:00,093 - logger_1 - CRITICAL - Critical message\n",
      "2024-03-15 21:32:00,093 - logger_1 - CRITICAL - Critical message\n"
     ]
    },
    {
     "data": {
      "text/plain": [
       "<__main__.Custom_Logger at 0x1d01d6a48d0>"
      ]
     },
     "execution_count": 8,
     "metadata": {},
     "output_type": "execute_result"
    }
   ],
   "source": [
    "import logging\n",
    "\n",
    "class Custom_Logger:\n",
    "    def __init__(self, logger_name='custom_logger', log_file=None, level=logging.DEBUG):\n",
    "        self.logger = logging.getLogger(logger_name)\n",
    "        self.logger.setLevel(level)\n",
    "        \n",
    "        formatter = logging.Formatter('%(asctime)s - %(name)s - %(levelname)s - %(message)s')\n",
    "        \n",
    "        if log_file:\n",
    "            file_handler = logging.FileHandler(log_file)\n",
    "            file_handler.setLevel(level)\n",
    "            file_handler.setFormatter(formatter)\n",
    "            self.logger.addHandler(file_handler)\n",
    "        \n",
    "        console_handler = logging.StreamHandler()\n",
    "        console_handler.setLevel(level)\n",
    "        console_handler.setFormatter(formatter)\n",
    "        self.logger.addHandler(console_handler)\n",
    "\n",
    "def test_logger(logger, messages_dict):\n",
    "    for level, message in messages_dict.items():\n",
    "        logger.logger.debug(messages_dict['debug'])\n",
    "        logger.logger.info(messages_dict['info'])\n",
    "        logger.logger.warning(messages_dict['warning'])\n",
    "        logger.logger.error(messages_dict['error'])\n",
    "        logger.logger.critical(messages_dict['critical'])\n",
    "    return logger\n",
    "\n",
    "iteration = 1\n",
    "result_dict[iteration] = Custom_Logger(\n",
    "    logger_name=f'logger_{iteration}', log_file=f'log_file_{iteration}'\n",
    ")\n",
    "test_logger(result_dict[iteration], messages_dict)"
   ]
  },
  {
   "cell_type": "markdown",
   "metadata": {},
   "source": [
    "## 1.1"
   ]
  },
  {
   "cell_type": "code",
   "execution_count": 18,
   "metadata": {},
   "outputs": [
    {
     "name": "stderr",
     "output_type": "stream",
     "text": [
      "2024-03-15 21:37:47,867 - logger_1.1 - WARNING - Warning message\n",
      "2024-03-15 21:37:47,867 - logger_1.1 - WARNING - Warning message\n",
      "2024-03-15 21:37:47,867 - logger_1.1 - WARNING - Warning message\n",
      "2024-03-15 21:37:47,867 - logger_1.1 - WARNING - Warning message\n",
      "2024-03-15 21:37:47,867 - logger_1.1 - WARNING - Warning message\n",
      "2024-03-15 21:37:47,873 - logger_1.1 - ERROR - Error message\n",
      "2024-03-15 21:37:47,873 - logger_1.1 - ERROR - Error message\n",
      "2024-03-15 21:37:47,873 - logger_1.1 - ERROR - Error message\n",
      "2024-03-15 21:37:47,873 - logger_1.1 - ERROR - Error message\n",
      "2024-03-15 21:37:47,873 - logger_1.1 - ERROR - Error message\n",
      "2024-03-15 21:37:47,877 - logger_1.1 - CRITICAL - Critical message\n",
      "2024-03-15 21:37:47,877 - logger_1.1 - CRITICAL - Critical message\n",
      "2024-03-15 21:37:47,877 - logger_1.1 - CRITICAL - Critical message\n",
      "2024-03-15 21:37:47,877 - logger_1.1 - CRITICAL - Critical message\n",
      "2024-03-15 21:37:47,877 - logger_1.1 - CRITICAL - Critical message\n",
      "2024-03-15 21:37:47,890 - logger_1.1 - WARNING - Warning message\n",
      "2024-03-15 21:37:47,890 - logger_1.1 - WARNING - Warning message\n",
      "2024-03-15 21:37:47,890 - logger_1.1 - WARNING - Warning message\n",
      "2024-03-15 21:37:47,890 - logger_1.1 - WARNING - Warning message\n",
      "2024-03-15 21:37:47,890 - logger_1.1 - WARNING - Warning message\n",
      "2024-03-15 21:37:47,904 - logger_1.1 - ERROR - Error message\n",
      "2024-03-15 21:37:47,904 - logger_1.1 - ERROR - Error message\n",
      "2024-03-15 21:37:47,904 - logger_1.1 - ERROR - Error message\n",
      "2024-03-15 21:37:47,904 - logger_1.1 - ERROR - Error message\n",
      "2024-03-15 21:37:47,904 - logger_1.1 - ERROR - Error message\n",
      "2024-03-15 21:37:47,913 - logger_1.1 - CRITICAL - Critical message\n",
      "2024-03-15 21:37:47,913 - logger_1.1 - CRITICAL - Critical message\n",
      "2024-03-15 21:37:47,913 - logger_1.1 - CRITICAL - Critical message\n",
      "2024-03-15 21:37:47,913 - logger_1.1 - CRITICAL - Critical message\n",
      "2024-03-15 21:37:47,913 - logger_1.1 - CRITICAL - Critical message\n",
      "2024-03-15 21:37:47,921 - logger_1.1 - WARNING - Warning message\n",
      "2024-03-15 21:37:47,921 - logger_1.1 - WARNING - Warning message\n",
      "2024-03-15 21:37:47,921 - logger_1.1 - WARNING - Warning message\n",
      "2024-03-15 21:37:47,921 - logger_1.1 - WARNING - Warning message\n",
      "2024-03-15 21:37:47,921 - logger_1.1 - WARNING - Warning message\n",
      "2024-03-15 21:37:47,925 - logger_1.1 - ERROR - Error message\n",
      "2024-03-15 21:37:47,925 - logger_1.1 - ERROR - Error message\n",
      "2024-03-15 21:37:47,925 - logger_1.1 - ERROR - Error message\n",
      "2024-03-15 21:37:47,925 - logger_1.1 - ERROR - Error message\n",
      "2024-03-15 21:37:47,925 - logger_1.1 - ERROR - Error message\n",
      "2024-03-15 21:37:47,937 - logger_1.1 - CRITICAL - Critical message\n",
      "2024-03-15 21:37:47,937 - logger_1.1 - CRITICAL - Critical message\n",
      "2024-03-15 21:37:47,937 - logger_1.1 - CRITICAL - Critical message\n",
      "2024-03-15 21:37:47,937 - logger_1.1 - CRITICAL - Critical message\n",
      "2024-03-15 21:37:47,937 - logger_1.1 - CRITICAL - Critical message\n",
      "2024-03-15 21:37:47,943 - logger_1.1 - WARNING - Warning message\n",
      "2024-03-15 21:37:47,943 - logger_1.1 - WARNING - Warning message\n",
      "2024-03-15 21:37:47,943 - logger_1.1 - WARNING - Warning message\n",
      "2024-03-15 21:37:47,943 - logger_1.1 - WARNING - Warning message\n",
      "2024-03-15 21:37:47,943 - logger_1.1 - WARNING - Warning message\n",
      "2024-03-15 21:37:47,949 - logger_1.1 - ERROR - Error message\n",
      "2024-03-15 21:37:47,949 - logger_1.1 - ERROR - Error message\n",
      "2024-03-15 21:37:47,949 - logger_1.1 - ERROR - Error message\n",
      "2024-03-15 21:37:47,949 - logger_1.1 - ERROR - Error message\n",
      "2024-03-15 21:37:47,949 - logger_1.1 - ERROR - Error message\n",
      "2024-03-15 21:37:47,956 - logger_1.1 - CRITICAL - Critical message\n",
      "2024-03-15 21:37:47,956 - logger_1.1 - CRITICAL - Critical message\n",
      "2024-03-15 21:37:47,956 - logger_1.1 - CRITICAL - Critical message\n",
      "2024-03-15 21:37:47,956 - logger_1.1 - CRITICAL - Critical message\n",
      "2024-03-15 21:37:47,956 - logger_1.1 - CRITICAL - Critical message\n",
      "2024-03-15 21:37:47,963 - logger_1.1 - WARNING - Warning message\n",
      "2024-03-15 21:37:47,963 - logger_1.1 - WARNING - Warning message\n",
      "2024-03-15 21:37:47,963 - logger_1.1 - WARNING - Warning message\n",
      "2024-03-15 21:37:47,963 - logger_1.1 - WARNING - Warning message\n",
      "2024-03-15 21:37:47,963 - logger_1.1 - WARNING - Warning message\n",
      "2024-03-15 21:37:47,969 - logger_1.1 - ERROR - Error message\n",
      "2024-03-15 21:37:47,969 - logger_1.1 - ERROR - Error message\n",
      "2024-03-15 21:37:47,969 - logger_1.1 - ERROR - Error message\n",
      "2024-03-15 21:37:47,969 - logger_1.1 - ERROR - Error message\n",
      "2024-03-15 21:37:47,969 - logger_1.1 - ERROR - Error message\n",
      "2024-03-15 21:37:47,975 - logger_1.1 - CRITICAL - Critical message\n",
      "2024-03-15 21:37:47,975 - logger_1.1 - CRITICAL - Critical message\n",
      "2024-03-15 21:37:47,975 - logger_1.1 - CRITICAL - Critical message\n",
      "2024-03-15 21:37:47,975 - logger_1.1 - CRITICAL - Critical message\n",
      "2024-03-15 21:37:47,975 - logger_1.1 - CRITICAL - Critical message\n"
     ]
    }
   ],
   "source": [
    "import logging\n",
    "\n",
    "class Custom_Logger:\n",
    "    def __init__(self, logger_name='custom_logger', log_file=None, level=logging.DEBUG):\n",
    "        self.logger = logging.getLogger(logger_name)\n",
    "        self.logger.setLevel(level)\n",
    "        \n",
    "        formatter = logging.Formatter('%(asctime)s - %(name)s - %(levelname)s - %(message)s')\n",
    "        \n",
    "        if log_file:\n",
    "            file_handler = logging.FileHandler(log_file)\n",
    "            file_handler.setLevel(level)\n",
    "            file_handler.setFormatter(formatter)\n",
    "            self.logger.addHandler(file_handler)\n",
    "        \n",
    "        console_handler = logging.StreamHandler()\n",
    "        console_handler.setLevel(level)\n",
    "        console_handler.setFormatter(formatter)\n",
    "        self.logger.addHandler(console_handler)\n",
    "\n",
    "def test_logger(logger, messages_dict):\n",
    "    for level, message in messages_dict.items():\n",
    "        logger.logger.debug(messages_dict['debug'])\n",
    "        logger.logger.info(messages_dict['info'])\n",
    "        logger.logger.warning(messages_dict['warning'])\n",
    "        logger.logger.error(messages_dict['error'])\n",
    "        logger.logger.critical(messages_dict['critical'])\n",
    "\n",
    "iteration = 1.1\n",
    "result_dict[iteration] = Custom_Logger(\n",
    "    logger_name=f'logger_{iteration}', log_file=f'log_file_{iteration}',\n",
    "    level=logging.WARNING\n",
    ")\n",
    "test_logger(result_dict[iteration], messages_dict)"
   ]
  },
  {
   "cell_type": "markdown",
   "metadata": {},
   "source": [
    "## 1.2"
   ]
  },
  {
   "cell_type": "code",
   "execution_count": 19,
   "metadata": {},
   "outputs": [
    {
     "name": "stderr",
     "output_type": "stream",
     "text": [
      "2024-03-15 21:42:21,793 - logger_1.1 - WARNING - Warning message\n",
      "2024-03-15 21:42:21,793 - logger_1.1 - WARNING - Warning message\n",
      "2024-03-15 21:42:21,793 - logger_1.1 - WARNING - Warning message\n",
      "2024-03-15 21:42:21,793 - logger_1.1 - WARNING - Warning message\n",
      "2024-03-15 21:42:21,793 - logger_1.1 - WARNING - Warning message\n",
      "2024-03-15 21:42:21,793 - logger_1.1 - WARNING - Warning message\n",
      "2024-03-15 21:42:21,802 - logger_1.1 - ERROR - Error message\n",
      "2024-03-15 21:42:21,802 - logger_1.1 - ERROR - Error message\n",
      "2024-03-15 21:42:21,802 - logger_1.1 - ERROR - Error message\n",
      "2024-03-15 21:42:21,802 - logger_1.1 - ERROR - Error message\n",
      "2024-03-15 21:42:21,802 - logger_1.1 - ERROR - Error message\n",
      "2024-03-15 21:42:21,802 - logger_1.1 - ERROR - Error message\n",
      "2024-03-15 21:42:21,809 - logger_1.1 - CRITICAL - Critical message\n",
      "2024-03-15 21:42:21,809 - logger_1.1 - CRITICAL - Critical message\n",
      "2024-03-15 21:42:21,809 - logger_1.1 - CRITICAL - Critical message\n",
      "2024-03-15 21:42:21,809 - logger_1.1 - CRITICAL - Critical message\n",
      "2024-03-15 21:42:21,809 - logger_1.1 - CRITICAL - Critical message\n",
      "2024-03-15 21:42:21,809 - logger_1.1 - CRITICAL - Critical message\n"
     ]
    }
   ],
   "source": [
    "import logging\n",
    "\n",
    "class Custom_Logger:\n",
    "    def __init__(self, logger_name='custom_logger', log_file=None, level=logging.DEBUG):\n",
    "        self.logger = logging.getLogger(logger_name)\n",
    "        self.logger.setLevel(level)\n",
    "        \n",
    "        formatter = logging.Formatter('%(asctime)s - %(name)s - %(levelname)s - %(message)s')\n",
    "        \n",
    "        if log_file:\n",
    "            file_handler = logging.FileHandler(log_file)\n",
    "            file_handler.setLevel(level)\n",
    "            file_handler.setFormatter(formatter)\n",
    "            self.logger.addHandler(file_handler)\n",
    "        \n",
    "        console_handler = logging.StreamHandler()\n",
    "        console_handler.setLevel(level)\n",
    "        console_handler.setFormatter(formatter)\n",
    "        self.logger.addHandler(console_handler)\n",
    "\n",
    "def test_logger(logger, messages_dict):\n",
    "    for level in messages_dict:\n",
    "        if level == 'debug':\n",
    "            logger.logger.debug(messages_dict['debug'])\n",
    "        elif level == 'info':\n",
    "            logger.logger.info(messages_dict['info'])\n",
    "        elif level == 'warning':\n",
    "            logger.logger.warning(messages_dict['warning'])\n",
    "        elif level == 'error':\n",
    "            logger.logger.error(messages_dict['error'])\n",
    "        elif level == 'critical':\n",
    "            logger.logger.critical(messages_dict['critical'])\n",
    "\n",
    "iteration = 1.1\n",
    "result_dict[iteration] = Custom_Logger(\n",
    "    logger_name=f'logger_{iteration}', log_file=f'log_file_{iteration}',\n",
    "    level=logging.WARNING\n",
    ")\n",
    "test_logger(result_dict[iteration], messages_dict)"
   ]
  },
  {
   "cell_type": "markdown",
   "metadata": {},
   "source": [
    "## 1.3"
   ]
  },
  {
   "cell_type": "code",
   "execution_count": 20,
   "metadata": {},
   "outputs": [
    {
     "name": "stderr",
     "output_type": "stream",
     "text": [
      "2024-03-15 21:46:59,569 - logger_1.3 - WARNING - Warning message\n",
      "2024-03-15 21:46:59,569 - logger_1.3 - WARNING - Warning message\n",
      "2024-03-15 21:46:59,569 - logger_1.3 - WARNING - Warning message\n",
      "2024-03-15 21:46:59,569 - logger_1.3 - WARNING - Warning message\n",
      "2024-03-15 21:46:59,575 - logger_1.3 - ERROR - Error message\n",
      "2024-03-15 21:46:59,575 - logger_1.3 - ERROR - Error message\n",
      "2024-03-15 21:46:59,575 - logger_1.3 - ERROR - Error message\n",
      "2024-03-15 21:46:59,575 - logger_1.3 - ERROR - Error message\n",
      "2024-03-15 21:46:59,586 - logger_1.3 - CRITICAL - Critical message\n",
      "2024-03-15 21:46:59,586 - logger_1.3 - CRITICAL - Critical message\n",
      "2024-03-15 21:46:59,586 - logger_1.3 - CRITICAL - Critical message\n",
      "2024-03-15 21:46:59,586 - logger_1.3 - CRITICAL - Critical message\n"
     ]
    }
   ],
   "source": [
    "import logging\n",
    "\n",
    "class Custom_Logger:\n",
    "    def __init__(self, logger_name='custom_logger', log_file=None, level=logging.DEBUG):\n",
    "        self.logger = logging.getLogger(logger_name)\n",
    "        self.logger.setLevel(level)\n",
    "        \n",
    "        formatter = logging.Formatter('%(asctime)s - %(name)s - %(levelname)s - %(message)s')\n",
    "        \n",
    "        if log_file:\n",
    "            file_handler = logging.FileHandler(log_file)\n",
    "            file_handler.setLevel(level)\n",
    "            file_handler.setFormatter(formatter)\n",
    "            self.logger.addHandler(file_handler)\n",
    "\n",
    "def test_logger(logger, messages_dict):\n",
    "    for level in messages_dict:\n",
    "        if level == 'debug':\n",
    "            logger.logger.debug(messages_dict['debug'])\n",
    "        elif level == 'info':\n",
    "            logger.logger.info(messages_dict['info'])\n",
    "        elif level == 'warning':\n",
    "            logger.logger.warning(messages_dict['warning'])\n",
    "        elif level == 'error':\n",
    "            logger.logger.error(messages_dict['error'])\n",
    "        elif level == 'critical':\n",
    "            logger.logger.critical(messages_dict['critical'])\n",
    "\n",
    "iteration = 1.3\n",
    "result_dict[iteration] = Custom_Logger(\n",
    "    logger_name=f'logger_{iteration}', log_file=f'log_file_{iteration}',\n",
    "    level=logging.WARNING\n",
    ")\n",
    "test_logger(result_dict[iteration], messages_dict)"
   ]
  },
  {
   "cell_type": "code",
   "execution_count": 21,
   "metadata": {},
   "outputs": [
    {
     "name": "stderr",
     "output_type": "stream",
     "text": [
      "2024-03-15 21:51:09,007 - logger_1.3 - ERROR - testing error logging\n",
      "2024-03-15 21:51:09,007 - logger_1.3 - ERROR - testing error logging\n",
      "2024-03-15 21:51:09,007 - logger_1.3 - ERROR - testing error logging\n",
      "2024-03-15 21:51:09,007 - logger_1.3 - ERROR - testing error logging\n"
     ]
    }
   ],
   "source": [
    "result_dict[iteration].logger.error('testing error logging')"
   ]
  },
  {
   "cell_type": "code",
   "execution_count": 22,
   "metadata": {},
   "outputs": [
    {
     "name": "stderr",
     "output_type": "stream",
     "text": [
      "2024-03-15 21:53:07,348 - logger_1.31 - CRITICAL - crtical message\n",
      "2024-03-15 21:53:07,348 - logger_1.31 - CRITICAL - crtical message\n",
      "2024-03-15 21:53:07,348 - logger_1.31 - CRITICAL - crtical message\n",
      "2024-03-15 21:53:07,348 - logger_1.31 - CRITICAL - crtical message\n"
     ]
    }
   ],
   "source": [
    "iteration = 1.31\n",
    "testlogger = logging.getLogger(f'logger_{iteration}')\n",
    "testlogger.critical('crtical message')"
   ]
  },
  {
   "cell_type": "code",
   "execution_count": 23,
   "metadata": {},
   "outputs": [
    {
     "name": "stderr",
     "output_type": "stream",
     "text": [
      "2024-03-15 22:15:25,213 - logger_1 - ERROR - testing error logging\n",
      "2024-03-15 22:15:25,213 - logger_1 - ERROR - testing error logging\n",
      "2024-03-15 22:15:25,213 - logger_1 - ERROR - testing error logging\n",
      "2024-03-15 22:15:25,213 - logger_1 - ERROR - testing error logging\n"
     ]
    }
   ],
   "source": [
    "result_dict[1].logger.error('testing error logging')"
   ]
  },
  {
   "cell_type": "markdown",
   "metadata": {},
   "source": [
    "## 1.4 after restarting kernel"
   ]
  },
  {
   "cell_type": "code",
   "execution_count": 5,
   "metadata": {},
   "outputs": [],
   "source": [
    "import logging\n",
    "\n",
    "class Custom_Logger:\n",
    "    def __init__(\n",
    "            self, logger_name='custom_logger', log_file=None, level=logging.DEBUG,\n",
    "            propagate = False\n",
    "            ):\n",
    "        self.logger = logging.getLogger(logger_name)\n",
    "        self.logger.setLevel(level)\n",
    "        self.logger.propagate = propagate\n",
    "        \n",
    "        formatter = logging.Formatter('%(asctime)s - %(name)s - %(levelname)s - %(message)s')\n",
    "        \n",
    "        if log_file:\n",
    "            file_handler = logging.FileHandler(log_file)\n",
    "            file_handler.setLevel(level)\n",
    "            file_handler.setFormatter(formatter)\n",
    "            self.logger.addHandler(file_handler)\n",
    "\n",
    "def test_logger(logger, messages_dict):\n",
    "    for level in messages_dict:\n",
    "        if level == 'debug':\n",
    "            logger.logger.debug(messages_dict['debug'])\n",
    "        elif level == 'info':\n",
    "            logger.logger.info(messages_dict['info'])\n",
    "        elif level == 'warning':\n",
    "            logger.logger.warning(messages_dict['warning'])\n",
    "        elif level == 'error':\n",
    "            logger.logger.error(messages_dict['error'])\n",
    "        elif level == 'critical':\n",
    "            logger.logger.critical(messages_dict['critical'])\n",
    "\n",
    "iteration = 1.4\n",
    "result_dict[iteration] = Custom_Logger(\n",
    "    logger_name=f'logger_{iteration}', log_file=f'log_file_{iteration}',\n",
    "    level=logging.WARNING\n",
    ")\n",
    "test_logger(result_dict[iteration], messages_dict)"
   ]
  },
  {
   "cell_type": "markdown",
   "metadata": {},
   "source": [
    "## 1.5"
   ]
  },
  {
   "cell_type": "code",
   "execution_count": 8,
   "metadata": {},
   "outputs": [
    {
     "name": "stderr",
     "output_type": "stream",
     "text": [
      "2024-03-15 22:20:02,685 - logger_1.4 - WARNING - Warning message\n",
      "2024-03-15 22:20:02,687 - logger_1.4 - ERROR - Error message\n",
      "2024-03-15 22:20:02,688 - logger_1.4 - CRITICAL - Critical message\n"
     ]
    }
   ],
   "source": [
    "import logging\n",
    "\n",
    "class Custom_Logger:\n",
    "    def __init__(\n",
    "            self, logger_name='custom_logger', log_file=None, level=logging.DEBUG,\n",
    "            propagate = False\n",
    "            ):\n",
    "        self.logger = logging.getLogger(logger_name)\n",
    "        self.logger.setLevel(level)\n",
    "        self.logger.propagate = propagate\n",
    "        \n",
    "        formatter = logging.Formatter('%(asctime)s - %(name)s - %(levelname)s - %(message)s')\n",
    "        \n",
    "        if log_file:\n",
    "            file_handler = logging.FileHandler(log_file)\n",
    "            file_handler.setLevel(level)\n",
    "            file_handler.setFormatter(formatter)\n",
    "            self.logger.addHandler(file_handler)\n",
    "        \n",
    "        console_handler = logging.StreamHandler()\n",
    "        console_handler.setLevel(level)\n",
    "        console_handler.setFormatter(formatter)\n",
    "        self.logger.addHandler(console_handler)\n",
    "\n",
    "\n",
    "def test_logger(logger, messages_dict):\n",
    "    for level in messages_dict:\n",
    "        if level == 'debug':\n",
    "            logger.logger.debug(messages_dict['debug'])\n",
    "        elif level == 'info':\n",
    "            logger.logger.info(messages_dict['info'])\n",
    "        elif level == 'warning':\n",
    "            logger.logger.warning(messages_dict['warning'])\n",
    "        elif level == 'error':\n",
    "            logger.logger.error(messages_dict['error'])\n",
    "        elif level == 'critical':\n",
    "            logger.logger.critical(messages_dict['critical'])\n",
    "\n",
    "iteration = 1.4\n",
    "result_dict[iteration] = Custom_Logger(\n",
    "    logger_name=f'logger_{iteration}', log_file=f'log_file_{iteration}',\n",
    "    level=logging.WARNING\n",
    ")\n",
    "test_logger(result_dict[iteration], messages_dict)"
   ]
  },
  {
   "cell_type": "code",
   "execution_count": 9,
   "metadata": {},
   "outputs": [
    {
     "name": "stderr",
     "output_type": "stream",
     "text": [
      "2024-03-15 22:21:43,832 - logger_1.4 - CRITICAL - crtical message\n"
     ]
    }
   ],
   "source": [
    "result_dict[iteration].logger.critical('crtical message')"
   ]
  },
  {
   "cell_type": "code",
   "execution_count": 10,
   "metadata": {},
   "outputs": [
    {
     "name": "stderr",
     "output_type": "stream",
     "text": [
      "2024-03-15 22:22:28,972 - logger_1.41.1.41 - WARNING - Warning message\n",
      "2024-03-15 22:22:28,974 - logger_1.41.1.41 - ERROR - Error message\n",
      "2024-03-15 22:22:28,975 - logger_1.41.1.41 - CRITICAL - Critical message\n"
     ]
    }
   ],
   "source": [
    "\n",
    "iteration = 1.41\n",
    "result_dict[iteration] = Custom_Logger(\n",
    "    logger_name=f'logger_1.41.{iteration}', log_file=f'log_file_{iteration}',\n",
    "    level=logging.WARNING\n",
    ")\n",
    "test_logger(result_dict[iteration], messages_dict)"
   ]
  },
  {
   "cell_type": "code",
   "execution_count": 15,
   "metadata": {},
   "outputs": [
    {
     "data": {
      "text/plain": [
       "<FileHandler c:\\Users\\silvh\\OneDrive\\lighthouse\\custom_python\\notebooks\\log_file_1.41 (WARNING)>"
      ]
     },
     "execution_count": 15,
     "metadata": {},
     "output_type": "execute_result"
    }
   ],
   "source": [
    "result_dict[iteration].logger.handlers[0]"
   ]
  },
  {
   "cell_type": "code",
   "execution_count": 23,
   "metadata": {},
   "outputs": [
    {
     "name": "stderr",
     "output_type": "stream",
     "text": [
      "2024-03-15 22:32:02,546 - logger_1.41.1.41 - CRITICAL - crtical message 3\n"
     ]
    }
   ],
   "source": [
    "result_dict[iteration].logger.critical('crtical message 3')"
   ]
  },
  {
   "cell_type": "markdown",
   "metadata": {},
   "source": [
    "## 1.6"
   ]
  },
  {
   "cell_type": "code",
   "execution_count": 24,
   "metadata": {},
   "outputs": [
    {
     "name": "stderr",
     "output_type": "stream",
     "text": [
      "2024-03-15 22:36:49,034 - logger_1.6 - WARNING - Warning message\n",
      "2024-03-15 22:36:49,034 - logger_1.6 - ERROR - Error message\n",
      "2024-03-15 22:36:49,034 - logger_1.6 - CRITICAL - Critical message\n"
     ]
    },
    {
     "name": "stdout",
     "output_type": "stream",
     "text": [
      "[('debug', 'Debug message'), ('info', 'Info message'), ('warning', 'Warning message'), ('error', 'Error message'), ('critical', 'Critical message')]\n"
     ]
    }
   ],
   "source": [
    "import logging\n",
    "\n",
    "class Custom_Logger:\n",
    "    def __init__(\n",
    "            self, logger_name='custom_logger', log_file=None, level=logging.DEBUG,\n",
    "            propagate=False\n",
    "            ):\n",
    "        self.logger = logging.getLogger(logger_name)\n",
    "        self.logger.setLevel(level)\n",
    "        self.logger.propagate = propagate\n",
    "        self.log_messages = []  # New attribute to store log messages\n",
    "\n",
    "        formatter = logging.Formatter('%(asctime)s - %(name)s - %(levelname)s - %(message)s')\n",
    "\n",
    "        if log_file:\n",
    "            file_handler = logging.FileHandler(log_file)\n",
    "            file_handler.setLevel(level)\n",
    "            file_handler.setFormatter(formatter)\n",
    "            self.logger.addHandler(file_handler)\n",
    "\n",
    "        console_handler = logging.StreamHandler()\n",
    "        console_handler.setLevel(level)\n",
    "        console_handler.setFormatter(formatter)\n",
    "        self.logger.addHandler(console_handler)\n",
    "\n",
    "    def get_log_messages(self):\n",
    "        return self.log_messages\n",
    "\n",
    "def test_logger(logger, messages_dict):\n",
    "    for level in messages_dict:\n",
    "        message = messages_dict[level]\n",
    "        if level == 'debug':\n",
    "            logger.logger.debug(message)\n",
    "        elif level == 'info':\n",
    "            logger.logger.info(message)\n",
    "        elif level == 'warning':\n",
    "            logger.logger.warning(message)\n",
    "        elif level == 'error':\n",
    "            logger.logger.error(message)\n",
    "        elif level == 'critical':\n",
    "            logger.logger.critical(message)\n",
    "        \n",
    "        # Append the log message to the log_messages list\n",
    "        logger.log_messages.append((level, message))\n",
    "\n",
    "iteration = 1.6\n",
    "result_dict[iteration] = Custom_Logger(\n",
    "    logger_name=f'logger_{iteration}', log_file=f'log_file_{iteration}',\n",
    "    level=logging.WARNING\n",
    ")\n",
    "test_logger(result_dict[iteration], messages_dict)\n",
    "\n",
    "# Accessing the log messages after the fact\n",
    "log_messages = result_dict[iteration].get_log_messages()\n",
    "print(log_messages)"
   ]
  },
  {
   "cell_type": "markdown",
   "metadata": {},
   "source": [
    "## 1.7"
   ]
  },
  {
   "cell_type": "code",
   "execution_count": 27,
   "metadata": {},
   "outputs": [
    {
     "name": "stderr",
     "output_type": "stream",
     "text": [
      "2024-03-15 22:42:23,842 - logger_1.6 - WARNING - Warning message\n",
      "2024-03-15 22:42:23,842 - logger_1.6 - WARNING - Warning message\n",
      "2024-03-15 22:42:23,842 - logger_1.6 - WARNING - Warning message\n"
     ]
    },
    {
     "ename": "TypeError",
     "evalue": "not all arguments converted during string formatting",
     "output_type": "error",
     "traceback": [
      "\u001b[1;31m---------------------------------------------------------------------------\u001b[0m",
      "\u001b[1;31mTypeError\u001b[0m                                 Traceback (most recent call last)",
      "Cell \u001b[1;32mIn[27], line 58\u001b[0m\n\u001b[0;32m     53\u001b[0m result_dict \u001b[38;5;241m=\u001b[39m {}\n\u001b[0;32m     54\u001b[0m result_dict[iteration] \u001b[38;5;241m=\u001b[39m Custom_Logger(\n\u001b[0;32m     55\u001b[0m     logger_name\u001b[38;5;241m=\u001b[39m\u001b[38;5;124mf\u001b[39m\u001b[38;5;124m'\u001b[39m\u001b[38;5;124mlogger_\u001b[39m\u001b[38;5;132;01m{\u001b[39;00miteration\u001b[38;5;132;01m}\u001b[39;00m\u001b[38;5;124m'\u001b[39m, log_file\u001b[38;5;241m=\u001b[39m\u001b[38;5;124mf\u001b[39m\u001b[38;5;124m'\u001b[39m\u001b[38;5;124mlog_file_\u001b[39m\u001b[38;5;132;01m{\u001b[39;00miteration\u001b[38;5;132;01m}\u001b[39;00m\u001b[38;5;124m'\u001b[39m,\n\u001b[0;32m     56\u001b[0m     level\u001b[38;5;241m=\u001b[39mlogging\u001b[38;5;241m.\u001b[39mWARNING\n\u001b[0;32m     57\u001b[0m )\n\u001b[1;32m---> 58\u001b[0m test_logger(result_dict[iteration], messages_dict)\n\u001b[0;32m     60\u001b[0m \u001b[38;5;66;03m# Accessing the log messages after the fact\u001b[39;00m\n\u001b[0;32m     61\u001b[0m log_messages \u001b[38;5;241m=\u001b[39m result_dict[iteration]\u001b[38;5;241m.\u001b[39mget_log_messages()\n",
      "Cell \u001b[1;32mIn[27], line 49\u001b[0m, in \u001b[0;36mtest_logger\u001b[1;34m(logger, messages_dict)\u001b[0m\n\u001b[0;32m     46\u001b[0m     logger\u001b[38;5;241m.\u001b[39mlogger\u001b[38;5;241m.\u001b[39mcritical(message)\n\u001b[0;32m     48\u001b[0m \u001b[38;5;66;03m# Format the log message in the specified format and append to the log_messages list\u001b[39;00m\n\u001b[1;32m---> 49\u001b[0m log_message \u001b[38;5;241m=\u001b[39m \u001b[38;5;124mf\u001b[39m\u001b[38;5;124m\"\u001b[39m\u001b[38;5;132;01m{\u001b[39;00mlogger\u001b[38;5;241m.\u001b[39mlogger\u001b[38;5;241m.\u001b[39mhandlers[\u001b[38;5;241m0\u001b[39m]\u001b[38;5;241m.\u001b[39mformat(logging\u001b[38;5;241m.\u001b[39mLogRecord(\u001b[38;5;124m'\u001b[39m\u001b[38;5;124m'\u001b[39m,\u001b[38;5;250m \u001b[39m\u001b[38;5;241m0\u001b[39m,\u001b[38;5;250m \u001b[39m\u001b[38;5;124m'\u001b[39m\u001b[38;5;124m'\u001b[39m,\u001b[38;5;250m \u001b[39m\u001b[38;5;241m0\u001b[39m,\u001b[38;5;250m \u001b[39mlevel\u001b[38;5;241m.\u001b[39mupper(),\u001b[38;5;250m \u001b[39mmessage,\u001b[38;5;250m \u001b[39m\u001b[38;5;28;01mNone\u001b[39;00m))\u001b[38;5;132;01m}\u001b[39;00m\u001b[38;5;124m\"\u001b[39m\n\u001b[0;32m     50\u001b[0m logger\u001b[38;5;241m.\u001b[39mlog_messages\u001b[38;5;241m.\u001b[39mappend(log_message)\n",
      "File \u001b[1;32mc:\\Users\\silvh\\.conda\\envs\\projects\\Lib\\logging\\__init__.py:953\u001b[0m, in \u001b[0;36mHandler.format\u001b[1;34m(self, record)\u001b[0m\n\u001b[0;32m    951\u001b[0m \u001b[38;5;28;01melse\u001b[39;00m:\n\u001b[0;32m    952\u001b[0m     fmt \u001b[38;5;241m=\u001b[39m _defaultFormatter\n\u001b[1;32m--> 953\u001b[0m \u001b[38;5;28;01mreturn\u001b[39;00m fmt\u001b[38;5;241m.\u001b[39mformat(record)\n",
      "File \u001b[1;32mc:\\Users\\silvh\\.conda\\envs\\projects\\Lib\\logging\\__init__.py:687\u001b[0m, in \u001b[0;36mFormatter.format\u001b[1;34m(self, record)\u001b[0m\n\u001b[0;32m    674\u001b[0m \u001b[38;5;28;01mdef\u001b[39;00m \u001b[38;5;21mformat\u001b[39m(\u001b[38;5;28mself\u001b[39m, record):\n\u001b[0;32m    675\u001b[0m \u001b[38;5;250m    \u001b[39m\u001b[38;5;124;03m\"\"\"\u001b[39;00m\n\u001b[0;32m    676\u001b[0m \u001b[38;5;124;03m    Format the specified record as text.\u001b[39;00m\n\u001b[0;32m    677\u001b[0m \n\u001b[1;32m   (...)\u001b[0m\n\u001b[0;32m    685\u001b[0m \u001b[38;5;124;03m    it is formatted using formatException() and appended to the message.\u001b[39;00m\n\u001b[0;32m    686\u001b[0m \u001b[38;5;124;03m    \"\"\"\u001b[39;00m\n\u001b[1;32m--> 687\u001b[0m     record\u001b[38;5;241m.\u001b[39mmessage \u001b[38;5;241m=\u001b[39m record\u001b[38;5;241m.\u001b[39mgetMessage()\n\u001b[0;32m    688\u001b[0m     \u001b[38;5;28;01mif\u001b[39;00m \u001b[38;5;28mself\u001b[39m\u001b[38;5;241m.\u001b[39musesTime():\n\u001b[0;32m    689\u001b[0m         record\u001b[38;5;241m.\u001b[39masctime \u001b[38;5;241m=\u001b[39m \u001b[38;5;28mself\u001b[39m\u001b[38;5;241m.\u001b[39mformatTime(record, \u001b[38;5;28mself\u001b[39m\u001b[38;5;241m.\u001b[39mdatefmt)\n",
      "File \u001b[1;32mc:\\Users\\silvh\\.conda\\envs\\projects\\Lib\\logging\\__init__.py:377\u001b[0m, in \u001b[0;36mLogRecord.getMessage\u001b[1;34m(self)\u001b[0m\n\u001b[0;32m    375\u001b[0m msg \u001b[38;5;241m=\u001b[39m \u001b[38;5;28mstr\u001b[39m(\u001b[38;5;28mself\u001b[39m\u001b[38;5;241m.\u001b[39mmsg)\n\u001b[0;32m    376\u001b[0m \u001b[38;5;28;01mif\u001b[39;00m \u001b[38;5;28mself\u001b[39m\u001b[38;5;241m.\u001b[39margs:\n\u001b[1;32m--> 377\u001b[0m     msg \u001b[38;5;241m=\u001b[39m msg \u001b[38;5;241m%\u001b[39m \u001b[38;5;28mself\u001b[39m\u001b[38;5;241m.\u001b[39margs\n\u001b[0;32m    378\u001b[0m \u001b[38;5;28;01mreturn\u001b[39;00m msg\n",
      "\u001b[1;31mTypeError\u001b[0m: not all arguments converted during string formatting"
     ]
    }
   ],
   "source": [
    "import logging\n",
    "\n",
    "class Custom_Logger:\n",
    "    def __init__(\n",
    "            self, logger_name='custom_logger', log_file=None, level=logging.DEBUG,\n",
    "            propagate=False\n",
    "            ):\n",
    "        self.logger = logging.getLogger(logger_name)\n",
    "        self.logger.setLevel(level)\n",
    "        self.logger.propagate = propagate\n",
    "        self.log_messages = []  # New attribute to store log messages\n",
    "\n",
    "        formatter = logging.Formatter('%(asctime)s - %(name)s - %(levelname)s - %(message)s')\n",
    "\n",
    "        if log_file:\n",
    "            file_handler = logging.FileHandler(log_file)\n",
    "            file_handler.setLevel(level)\n",
    "            file_handler.setFormatter(formatter)\n",
    "            self.logger.addHandler(file_handler)\n",
    "\n",
    "        console_handler = logging.StreamHandler()\n",
    "        console_handler.setLevel(level)\n",
    "        console_handler.setFormatter(formatter)\n",
    "        self.logger.addHandler(console_handler)\n",
    "\n",
    "    def get_log_messages(self):\n",
    "        return self.log_messages\n",
    "\n",
    "def test_logger(logger, messages_dict):\n",
    "    for level in messages_dict:\n",
    "        message = messages_dict[level]\n",
    "        if level == 'debug':\n",
    "            formatted_message = f'DEBUG: {message}'\n",
    "            logger.logger.debug(message)\n",
    "        elif level == 'info':\n",
    "            formatted_message = f'INFO: {message}'\n",
    "            logger.logger.info(message)\n",
    "        elif level == 'warning':\n",
    "            formatted_message = f'WARNING: {message}'\n",
    "            logger.logger.warning(message)\n",
    "        elif level == 'error':\n",
    "            formatted_message = f'ERROR: {message}'\n",
    "            logger.logger.error(message)\n",
    "        elif level == 'critical':\n",
    "            formatted_message = f'CRITICAL: {message}'\n",
    "            logger.logger.critical(message)\n",
    "        \n",
    "        # Format the log message in the specified format and append to the log_messages list\n",
    "        log_message = f\"{logger.logger.handlers[0].format(logging.LogRecord('', 0, '', 0, level.upper(), message, None))}\"\n",
    "        logger.log_messages.append(log_message)\n",
    "\n",
    "iteration = 1.6\n",
    "result_dict = {}\n",
    "result_dict[iteration] = Custom_Logger(\n",
    "    logger_name=f'logger_{iteration}', log_file=f'log_file_{iteration}',\n",
    "    level=logging.WARNING\n",
    ")\n",
    "test_logger(result_dict[iteration], messages_dict)\n",
    "\n",
    "# Accessing the log messages after the fact\n",
    "log_messages = result_dict[iteration].get_log_messages()\n",
    "for log in log_messages:\n",
    "    print(log)"
   ]
  },
  {
   "cell_type": "markdown",
   "metadata": {},
   "source": [
    "## 1.8"
   ]
  },
  {
   "cell_type": "code",
   "execution_count": 33,
   "metadata": {},
   "outputs": [
    {
     "name": "stderr",
     "output_type": "stream",
     "text": [
      "2024-03-15 22:48:43,421 - logger_1.6 - WARNING - Warning message\n",
      "2024-03-15 22:48:43,421 - logger_1.6 - WARNING - Warning message\n",
      "2024-03-15 22:48:43,421 - logger_1.6 - WARNING - Warning message\n",
      "2024-03-15 22:48:43,421 - logger_1.6 - WARNING - Warning message\n",
      "2024-03-15 22:48:43,421 - logger_1.6 - WARNING - Warning message\n",
      "2024-03-15 22:48:43,421 - logger_1.6 - WARNING - Warning message\n",
      "2024-03-15 22:48:43,429 - logger_1.6 - ERROR - Error message\n",
      "2024-03-15 22:48:43,429 - logger_1.6 - ERROR - Error message\n",
      "2024-03-15 22:48:43,429 - logger_1.6 - ERROR - Error message\n",
      "2024-03-15 22:48:43,429 - logger_1.6 - ERROR - Error message\n",
      "2024-03-15 22:48:43,429 - logger_1.6 - ERROR - Error message\n",
      "2024-03-15 22:48:43,429 - logger_1.6 - ERROR - Error message\n",
      "2024-03-15 22:48:43,436 - logger_1.6 - CRITICAL - Critical message\n",
      "2024-03-15 22:48:43,436 - logger_1.6 - CRITICAL - Critical message\n",
      "2024-03-15 22:48:43,436 - logger_1.6 - CRITICAL - Critical message\n",
      "2024-03-15 22:48:43,436 - logger_1.6 - CRITICAL - Critical message\n",
      "2024-03-15 22:48:43,436 - logger_1.6 - CRITICAL - Critical message\n",
      "2024-03-15 22:48:43,436 - logger_1.6 - CRITICAL - Critical message\n"
     ]
    },
    {
     "name": "stdout",
     "output_type": "stream",
     "text": [
      "2024-03-15 22:48:43,429 - logger_1.6 - WARNING - Warning message\n",
      "2024-03-15 22:48:43,435 - logger_1.6 - ERROR - Error message\n",
      "2024-03-15 22:48:43,444 - logger_1.6 - CRITICAL - Critical message\n"
     ]
    }
   ],
   "source": [
    "import logging\n",
    "from datetime import datetime\n",
    "\n",
    "class Custom_Logger:\n",
    "    def __init__(\n",
    "            self, logger_name='custom_logger', log_file=None, level=logging.DEBUG,\n",
    "            propagate=False\n",
    "            ):\n",
    "        self.logger = logging.getLogger(logger_name)\n",
    "        self.logger.setLevel(level)\n",
    "        self.logger.propagate = propagate\n",
    "        self.log_messages = []  # New attribute to store log messages\n",
    "\n",
    "        formatter = logging.Formatter('%(asctime)s - %(name)s - %(levelname)s - %(message)s')\n",
    "\n",
    "        if log_file:\n",
    "            file_handler = logging.FileHandler(log_file)\n",
    "            file_handler.setLevel(level)\n",
    "            file_handler.setFormatter(formatter)\n",
    "            self.logger.addHandler(file_handler)\n",
    "\n",
    "        console_handler = logging.StreamHandler()\n",
    "        console_handler.setLevel(level)\n",
    "        console_handler.setFormatter(formatter)\n",
    "        self.logger.addHandler(console_handler)\n",
    "\n",
    "    def get_log_messages(self):\n",
    "        return self.log_messages\n",
    "\n",
    "def test_logger(logger, messages_dict):\n",
    "    for level in messages_dict:\n",
    "        message = messages_dict[level]\n",
    "        if level == 'debug':\n",
    "            formatted_message = f'DEBUG: {message}'\n",
    "            logger.logger.debug(message)\n",
    "        elif level == 'info':\n",
    "            formatted_message = f'INFO: {message}'\n",
    "            logger.logger.info(message)\n",
    "        elif level == 'warning':\n",
    "            formatted_message = f'WARNING: {message}'\n",
    "            logger.logger.warning(message)\n",
    "        elif level == 'error':\n",
    "            formatted_message = f'ERROR: {message}'\n",
    "            logger.logger.error(message)\n",
    "        elif level == 'critical':\n",
    "            formatted_message = f'CRITICAL: {message}'\n",
    "            logger.logger.critical(message)\n",
    "        \n",
    "        # Format the log message in the specified format and append to the log_messages list\n",
    "        log_time = datetime.now().strftime(\"%Y-%m-%d %H:%M:%S,%f\")[:-3]  # Adjusted format for microseconds\n",
    "        log_message = f\"{log_time} - {logger.logger.name} - {level.upper()} - {message}\"\n",
    "        logger.log_messages.append(log_message)\n",
    "\n",
    "iteration = 1.6\n",
    "result_dict = {}\n",
    "result_dict[iteration] = Custom_Logger(\n",
    "    logger_name=f'logger_{iteration}', log_file=f'log_file_{iteration}',\n",
    "    level=logging.WARNING\n",
    ")\n",
    "test_logger(result_dict[iteration], messages_dict)\n",
    "\n",
    "# Accessing the log messages after the fact\n",
    "log_messages = result_dict[iteration].get_log_messages()\n",
    "for log in log_messages:\n",
    "    print(log)"
   ]
  },
  {
   "cell_type": "markdown",
   "metadata": {},
   "source": [
    "### 1.61"
   ]
  },
  {
   "cell_type": "code",
   "execution_count": 34,
   "metadata": {},
   "outputs": [
    {
     "name": "stderr",
     "output_type": "stream",
     "text": [
      "2024-03-15 22:49:18,066 - logger_1.61 - WARNING - Warning message\n",
      "2024-03-15 22:49:18,068 - logger_1.61 - ERROR - Error message\n",
      "2024-03-15 22:49:18,070 - logger_1.61 - CRITICAL - Critical message\n"
     ]
    }
   ],
   "source": [
    "iteration = 1.61\n",
    "result_dict = {}\n",
    "result_dict[iteration] = Custom_Logger(\n",
    "    logger_name=f'logger_{iteration}', log_file=f'log_file_{iteration}',\n",
    "    level=logging.WARNING\n",
    ")\n",
    "test_logger(result_dict[iteration], messages_dict)\n"
   ]
  },
  {
   "cell_type": "code",
   "execution_count": 35,
   "metadata": {},
   "outputs": [
    {
     "name": "stdout",
     "output_type": "stream",
     "text": [
      "2024-03-15 22:49:18,068 - logger_1.61 - WARNING - Warning message\n",
      "2024-03-15 22:49:18,070 - logger_1.61 - ERROR - Error message\n",
      "2024-03-15 22:49:18,071 - logger_1.61 - CRITICAL - Critical message\n"
     ]
    }
   ],
   "source": [
    "log_messages = result_dict[iteration].get_log_messages()\n",
    "for log in log_messages:\n",
    "    print(log)"
   ]
  },
  {
   "cell_type": "code",
   "execution_count": 36,
   "metadata": {},
   "outputs": [
    {
     "name": "stderr",
     "output_type": "stream",
     "text": [
      "2024-03-15 22:51:46,462 - logger_1.61.a - WARNING - Warning message\n",
      "2024-03-15 22:51:46,463 - logger_1.61.a - ERROR - Error message\n",
      "2024-03-15 22:51:46,465 - logger_1.61.a - CRITICAL - Critical message\n"
     ]
    }
   ],
   "source": [
    "iteration_child = 'a'\n",
    "result_dict[iteration] = Custom_Logger(\n",
    "    logger_name=f'logger_{iteration}.{iteration_child}', \n",
    "    log_file=f'log_file_{iteration}{iteration_child}',\n",
    "    level=logging.WARNING\n",
    ")\n",
    "test_logger(result_dict[iteration], messages_dict)"
   ]
  },
  {
   "cell_type": "markdown",
   "metadata": {},
   "source": [
    "## 1.62"
   ]
  },
  {
   "cell_type": "code",
   "execution_count": 37,
   "metadata": {},
   "outputs": [
    {
     "name": "stderr",
     "output_type": "stream",
     "text": [
      "2024-03-15 22:54:04,255 - logger_162 - WARNING - Warning message\n",
      "2024-03-15 22:54:04,257 - logger_162 - ERROR - Error message\n",
      "2024-03-15 22:54:04,259 - logger_162 - CRITICAL - Critical message\n"
     ]
    },
    {
     "name": "stdout",
     "output_type": "stream",
     "text": [
      "2024-03-15 22:54:04,257 - logger_162 - WARNING - Warning message\n",
      "2024-03-15 22:54:04,259 - logger_162 - ERROR - Error message\n",
      "2024-03-15 22:54:04,261 - logger_162 - CRITICAL - Critical message\n"
     ]
    }
   ],
   "source": [
    "iteration = 1_62\n",
    "result_dict[iteration] = Custom_Logger(\n",
    "    logger_name=f'logger_{iteration}', log_file=f'log_file_{iteration}',\n",
    "    level=logging.WARNING, propagate=True\n",
    ")\n",
    "test_logger(result_dict[iteration], messages_dict)\n",
    "log_messages = result_dict[iteration].get_log_messages()\n",
    "for log in log_messages:\n",
    "    print(log)"
   ]
  },
  {
   "cell_type": "code",
   "execution_count": 39,
   "metadata": {},
   "outputs": [
    {
     "name": "stderr",
     "output_type": "stream",
     "text": [
      "2024-03-15 22:54:56,659 - logger_162.a - WARNING - Warning message\n",
      "2024-03-15 22:54:56,661 - logger_162.a - ERROR - Error message\n",
      "2024-03-15 22:54:56,662 - logger_162.a - CRITICAL - Critical message\n"
     ]
    }
   ],
   "source": [
    "iteration_child = 'a'\n",
    "result_dict[iteration] = Custom_Logger(\n",
    "    logger_name=f'logger_{iteration}.{iteration_child}', \n",
    "    log_file=f'log_file_{iteration}.{iteration_child}',\n",
    "    level=logging.WARNING\n",
    ")\n",
    "test_logger(result_dict[iteration], messages_dict)"
   ]
  },
  {
   "cell_type": "markdown",
   "metadata": {},
   "source": [
    "# Iteration 2"
   ]
  },
  {
   "cell_type": "code",
   "execution_count": 41,
   "metadata": {},
   "outputs": [
    {
     "name": "stderr",
     "output_type": "stream",
     "text": [
      "2024-03-15 23:21:12,926 - logger_2 - WARNING - Warning message\n",
      "2024-03-15 23:21:12,926 - logger_2 - WARNING - Warning message\n",
      "2024-03-15 23:21:12,929 - logger_2 - ERROR - Error message\n",
      "2024-03-15 23:21:12,929 - logger_2 - ERROR - Error message\n",
      "2024-03-15 23:21:12,932 - logger_2 - CRITICAL - Critical message\n",
      "2024-03-15 23:21:12,932 - logger_2 - CRITICAL - Critical message\n"
     ]
    },
    {
     "name": "stdout",
     "output_type": "stream",
     "text": [
      "2024-03-15 23:21:12,929 - logger_2 - WARNING - Warning message\n",
      "2024-03-15 23:21:12,932 - logger_2 - ERROR - Error message\n",
      "2024-03-15 23:21:12,934 - logger_2 - CRITICAL - Critical message\n"
     ]
    }
   ],
   "source": [
    "import logging\n",
    "from datetime import datetime\n",
    "from silvhua import *\n",
    "\n",
    "class Custom_Logger:\n",
    "    def __init__(\n",
    "            self, logger_name='custom_logger', level=logging.DEBUG,\n",
    "            propagate=False, log_file=None, log_path=r'C:\\Users\\silvh\\OneDrive\\lighthouse\\custom_python\\notebooks'\n",
    "            ):\n",
    "        self.logger = logging.getLogger(logger_name)\n",
    "        self.logger.setLevel(level)\n",
    "        self.logger.propagate = propagate\n",
    "        self.log_messages = []  # New attribute to store log messages\n",
    "        log_path = convert_windows_path(log_path)\n",
    "\n",
    "        formatter = logging.Formatter('%(asctime)s - %(name)s - %(levelname)s - %(message)s')\n",
    "\n",
    "        if log_file:\n",
    "            file_handler = logging.FileHandler(f'{log_path}/{log_file}')\n",
    "            file_handler.setLevel(level)\n",
    "            file_handler.setFormatter(formatter)\n",
    "            self.logger.addHandler(file_handler)\n",
    "\n",
    "        console_handler = logging.StreamHandler()\n",
    "        console_handler.setLevel(level)\n",
    "        console_handler.setFormatter(formatter)\n",
    "        self.logger.addHandler(console_handler)\n",
    "\n",
    "    def save_log_messages(self, level, message):\n",
    "        # Format the log message in the specified format and append to the log_messages list\n",
    "        log_time = datetime.now().strftime(\"%Y-%m-%d %H:%M:%S,%f\")[:-3]  # Adjusted format for microseconds\n",
    "        log_message = f\"{log_time} - {self.logger.name} - {level.upper()} - {message}\"\n",
    "        self.log_messages.append(log_message)\n",
    "\n",
    "    def get_log_messages(self):\n",
    "        return self.log_messages\n",
    "    \n",
    "    def debug(self, message, save=False):\n",
    "        self.logger.debug(message)\n",
    "        if save:\n",
    "            self.save_log_messages('debug', message)\n",
    "\n",
    "    def info(self, message, save=False):\n",
    "        self.logger.info(message)\n",
    "        if save:\n",
    "            self.save_log_messages('info', message)\n",
    "\n",
    "    def warning(self, message, save=False):\n",
    "        self.logger.warning(message)\n",
    "        if save:\n",
    "            self.save_log_messages('warning', message)\n",
    "\n",
    "    def error(self, message, save=False):\n",
    "        self.logger.error(message)\n",
    "        if save:\n",
    "            self.save_log_messages('error', message)\n",
    "\n",
    "    def critical(self, message, save=False):\n",
    "        self.logger.critical(message)\n",
    "        if save:\n",
    "            self.save_log_messages('critical', message)\n",
    "            \n",
    "def test_logger(logger, messages_dict, save=True):\n",
    "    for level in messages_dict:\n",
    "        message = messages_dict[level]\n",
    "        if level == 'debug':\n",
    "            logger.debug(message, save=save)\n",
    "        elif level == 'info':\n",
    "            logger.info(message, save=save)\n",
    "        elif level == 'warning':\n",
    "            logger.warning(message, save=save)\n",
    "        elif level == 'error':\n",
    "            logger.error(message, save=save)\n",
    "        elif level == 'critical':\n",
    "            logger.critical(message, save=save)\n",
    "        \n",
    "\n",
    "iteration = 2\n",
    "result_dict[iteration] = Custom_Logger(\n",
    "    logger_name=f'logger_{iteration}', log_file=f'log_file_{iteration}',\n",
    "    level=logging.WARNING\n",
    ")\n",
    "test_logger(result_dict[iteration], messages_dict)\n",
    "\n",
    "# Accessing the log messages after the fact\n",
    "log_messages = result_dict[iteration].get_log_messages()\n",
    "for log in log_messages:\n",
    "    print(log)"
   ]
  },
  {
   "cell_type": "code",
   "execution_count": 42,
   "metadata": {},
   "outputs": [
    {
     "data": {
      "text/plain": [
       "['2024-03-15 23:21:12,929 - logger_2 - WARNING - Warning message',\n",
       " '2024-03-15 23:21:12,932 - logger_2 - ERROR - Error message',\n",
       " '2024-03-15 23:21:12,934 - logger_2 - CRITICAL - Critical message']"
      ]
     },
     "execution_count": 42,
     "metadata": {},
     "output_type": "execute_result"
    }
   ],
   "source": [
    "result_dict[iteration].get_log_messages()"
   ]
  },
  {
   "cell_type": "markdown",
   "metadata": {},
   "source": [
    "## 2.1"
   ]
  },
  {
   "cell_type": "code",
   "execution_count": 3,
   "metadata": {},
   "outputs": [
    {
     "name": "stderr",
     "output_type": "stream",
     "text": [
      "2024-03-15 23:25:36,753 - logger_2.1 - WARNING - Warning message\n",
      "2024-03-15 23:25:36,754 - logger_2.1 - ERROR - Error message\n",
      "2024-03-15 23:25:36,756 - logger_2.1 - CRITICAL - Critical message\n"
     ]
    }
   ],
   "source": [
    "import logging\n",
    "from datetime import datetime\n",
    "from silvhua import *\n",
    "\n",
    "class Custom_Logger:\n",
    "    def __init__(\n",
    "            self, logger_name='custom_logger', level=logging.DEBUG,\n",
    "            propagate=False, log_file=None, log_path=r'C:\\Users\\silvh\\OneDrive\\lighthouse\\custom_python\\files\\logger_files'\n",
    "            ):\n",
    "        self.logger = logging.getLogger(logger_name)\n",
    "        self.logger.setLevel(level)\n",
    "        self.logger.propagate = propagate\n",
    "        self.log_messages = []  # New attribute to store log messages\n",
    "        log_path = convert_windows_path(log_path)\n",
    "\n",
    "        formatter = logging.Formatter('%(asctime)s - %(name)s - %(levelname)s - %(message)s')\n",
    "\n",
    "        if log_file:\n",
    "            file_handler = logging.FileHandler(f'{log_path}/{log_file}')\n",
    "            file_handler.setLevel(level)\n",
    "            file_handler.setFormatter(formatter)\n",
    "            self.logger.addHandler(file_handler)\n",
    "\n",
    "        console_handler = logging.StreamHandler()\n",
    "        console_handler.setLevel(level)\n",
    "        console_handler.setFormatter(formatter)\n",
    "        self.logger.addHandler(console_handler)\n",
    "\n",
    "    def save_log_messages(self, level, message):\n",
    "        # Format the log message in the specified format and append to the log_messages list\n",
    "        log_time = datetime.now().strftime(\"%Y-%m-%d %H:%M:%S,%f\")[:-3]  # Adjusted format for microseconds\n",
    "        log_message = f\"{log_time} - {self.logger.name} - {level.upper()} - {message}\"\n",
    "        self.log_messages.append(log_message)\n",
    "\n",
    "    def get_log_messages(self):\n",
    "        return self.log_messages\n",
    "    \n",
    "    def debug(self, message, save=False):\n",
    "        self.logger.debug(message)\n",
    "        if save:\n",
    "            self.save_log_messages('debug', message)\n",
    "\n",
    "    def info(self, message, save=False):\n",
    "        self.logger.info(message)\n",
    "        if save:\n",
    "            self.save_log_messages('info', message)\n",
    "\n",
    "    def warning(self, message, save=False):\n",
    "        self.logger.warning(message)\n",
    "        if save:\n",
    "            self.save_log_messages('warning', message)\n",
    "\n",
    "    def error(self, message, save=False):\n",
    "        self.logger.error(message)\n",
    "        if save:\n",
    "            self.save_log_messages('error', message)\n",
    "\n",
    "    def critical(self, message, save=False):\n",
    "        self.logger.critical(message)\n",
    "        if save:\n",
    "            self.save_log_messages('critical', message)\n",
    "            \n",
    "def test_logger(logger, messages_dict, save=True):\n",
    "    for level in messages_dict:\n",
    "        message = messages_dict[level]\n",
    "        if level == 'debug':\n",
    "            logger.debug(message, save=save)\n",
    "        elif level == 'info':\n",
    "            logger.info(message, save=save)\n",
    "        elif level == 'warning':\n",
    "            logger.warning(message, save=save)\n",
    "        elif level == 'error':\n",
    "            logger.error(message, save=save)\n",
    "        elif level == 'critical':\n",
    "            logger.critical(message, save=save)\n",
    "        \n",
    "\n",
    "iteration = 2.1\n",
    "result_dict[iteration] = Custom_Logger(\n",
    "    logger_name=f'logger_{iteration}', log_file=f'log_file_{iteration}',\n",
    "    level=logging.WARNING, propagate=False\n",
    ")\n",
    "test_logger(result_dict[iteration], messages_dict)\n",
    "\n",
    "# # Accessing the log messages after the fact\n",
    "# log_messages = result_dict[iteration].get_log_messages()\n",
    "# for log in log_messages:\n",
    "#     print(log)"
   ]
  },
  {
   "cell_type": "code",
   "execution_count": 4,
   "metadata": {},
   "outputs": [
    {
     "name": "stderr",
     "output_type": "stream",
     "text": [
      "2024-03-15 23:26:18,407 - logger_a - WARNING - Warning message\n",
      "2024-03-15 23:26:18,408 - logger_a - ERROR - Error message\n",
      "2024-03-15 23:26:18,410 - logger_a - CRITICAL - Critical message\n"
     ]
    }
   ],
   "source": [
    "iteration = 'a'\n",
    "result_dict[iteration] = Custom_Logger(\n",
    "    logger_name=f'logger_{iteration}', log_file=f'log_file_{iteration}',\n",
    "    level=logging.WARNING, propagate=True\n",
    ")\n",
    "test_logger(result_dict[iteration], messages_dict)"
   ]
  },
  {
   "cell_type": "code",
   "execution_count": 5,
   "metadata": {},
   "outputs": [
    {
     "name": "stderr",
     "output_type": "stream",
     "text": [
      "2024-03-15 23:27:15,461 - logger_a.a - WARNING - Warning message\n",
      "2024-03-15 23:27:15,462 - logger_a.a - ERROR - Error message\n",
      "2024-03-15 23:27:15,464 - logger_a.a - CRITICAL - Critical message\n"
     ]
    }
   ],
   "source": [
    "iteration_child = 'a'\n",
    "result_dict[iteration] = Custom_Logger(\n",
    "    logger_name=f'logger_{iteration}.{iteration_child}', \n",
    "    log_file=f'log_file_{iteration}.{iteration_child}',\n",
    "    level=logging.WARNING\n",
    ")\n",
    "test_logger(result_dict[iteration], messages_dict)"
   ]
  },
  {
   "cell_type": "code",
   "execution_count": 6,
   "metadata": {},
   "outputs": [
    {
     "name": "stderr",
     "output_type": "stream",
     "text": [
      "2024-03-15 23:27:56,078 - logger_a.b - WARNING - Warning message\n",
      "2024-03-15 23:27:56,078 - logger_a.b - WARNING - Warning message\n",
      "2024-03-15 23:27:56,082 - logger_a.b - ERROR - Error message\n",
      "2024-03-15 23:27:56,082 - logger_a.b - ERROR - Error message\n",
      "2024-03-15 23:27:56,083 - logger_a.b - CRITICAL - Critical message\n",
      "2024-03-15 23:27:56,083 - logger_a.b - CRITICAL - Critical message\n"
     ]
    }
   ],
   "source": [
    "iteration_child = 'b'\n",
    "result_dict[iteration] = Custom_Logger(\n",
    "    logger_name=f'logger_{iteration}.{iteration_child}', \n",
    "    log_file=f'log_file_{iteration}.{iteration_child}',\n",
    "    level=logging.WARNING, propagate=True\n",
    ")\n",
    "test_logger(result_dict[iteration], messages_dict)"
   ]
  },
  {
   "cell_type": "code",
   "execution_count": 8,
   "metadata": {},
   "outputs": [
    {
     "data": {
      "text/plain": [
       "[<FileHandler C:\\Users\\silvh\\OneDrive\\lighthouse\\custom_python\\files\\logger_files\\log_file_a.b (WARNING)>,\n",
       " <StreamHandler stderr (WARNING)>]"
      ]
     },
     "execution_count": 8,
     "metadata": {},
     "output_type": "execute_result"
    }
   ],
   "source": [
    "result_dict[iteration].logger.handlers"
   ]
  },
  {
   "cell_type": "code",
   "execution_count": null,
   "metadata": {},
   "outputs": [],
   "source": []
  },
  {
   "cell_type": "code",
   "execution_count": null,
   "metadata": {},
   "outputs": [],
   "source": []
  },
  {
   "attachments": {},
   "cell_type": "markdown",
   "metadata": {},
   "source": [
    "# *End of Page*"
   ]
  }
 ],
 "metadata": {
  "kernelspec": {
   "display_name": "Python 3.9.13 64-bit",
   "language": "python",
   "name": "python3"
  },
  "language_info": {
   "codemirror_mode": {
    "name": "ipython",
    "version": 3
   },
   "file_extension": ".py",
   "mimetype": "text/x-python",
   "name": "python",
   "nbconvert_exporter": "python",
   "pygments_lexer": "ipython3",
   "version": "3.11.4"
  },
  "orig_nbformat": 4,
  "vscode": {
   "interpreter": {
    "hash": "11938c6bc6919ae2720b4d5011047913343b08a43b18698fd82dedb0d4417594"
   }
  }
 },
 "nbformat": 4,
 "nbformat_minor": 2
}
