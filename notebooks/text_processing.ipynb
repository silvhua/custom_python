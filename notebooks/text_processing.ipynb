{
 "cells": [
  {
   "cell_type": "code",
   "execution_count": 2,
   "metadata": {},
   "outputs": [
    {
     "data": {
      "text/plain": [
       "'2024-03-24T23:41:30Z'"
      ]
     },
     "execution_count": 2,
     "metadata": {},
     "output_type": "execute_result"
    }
   ],
   "source": [
    "from datetime import datetime, timezone\n",
    "datetime.now(timezone.utc).strftime('%Y-%m-%dT%H:%M:%SZ')"
   ]
  },
  {
   "cell_type": "code",
   "execution_count": 3,
   "metadata": {},
   "outputs": [
    {
     "name": "stdout",
     "output_type": "stream",
     "text": [
      "Help on built-in function now:\n",
      "\n",
      "now(tz=None) method of builtins.type instance\n",
      "    Returns new datetime object representing current time local to tz.\n",
      "\n",
      "      tz\n",
      "        Timezone object.\n",
      "\n",
      "    If no tz is specified, uses local timezone.\n",
      "\n"
     ]
    }
   ],
   "source": [
    "help(datetime.now)"
   ]
  },
  {
   "cell_type": "markdown",
   "metadata": {},
   "source": [
    "# `string_to_list_at_newline`"
   ]
  },
  {
   "cell_type": "code",
   "execution_count": 15,
   "metadata": {},
   "outputs": [
    {
     "data": {
      "text/plain": [
       "['IF kStatus = 38, true',\n",
       " 'IF kStatus = 22 true',\n",
       " 'IF kStatus = 23, true',\n",
       " 'IF kStatus = 24, true',\n",
       " 'IF kStatus = 41, true',\n",
       " 'IF kStatus = 42, true',\n",
       " 'IF kStatus = 39, true',\n",
       " 'If kStatus = 26 true',\n",
       " 'If kStatus = 27, true',\n",
       " 'If kStatus = 28, true',\n",
       " 'If kStatus = 43, true',\n",
       " 'If kStatus = 44, true',\n",
       " 'If kStatus = 46, true',\n",
       " 'If kStatus = 48, true',\n",
       " 'If kStatus = 50, true']"
      ]
     },
     "execution_count": 15,
     "metadata": {},
     "output_type": "execute_result"
    }
   ],
   "source": [
    "string = \"\"\"\n",
    "IF kStatus = 38, true\n",
    "IF kStatus = 22 true\n",
    "IF kStatus = 23, true\n",
    "IF kStatus = 24, true\n",
    "IF kStatus = 41, true\n",
    "IF kStatus = 42, true\n",
    "IF kStatus = 39, true\n",
    "If kStatus = 26 true\n",
    "If kStatus = 27, true\n",
    "If kStatus = 28, true\n",
    "If kStatus = 43, true\n",
    "If kStatus = 44, true\n",
    "If kStatus = 46, true\n",
    "If kStatus = 48, true\n",
    "If kStatus = 50, true\n",
    "\"\"\"\n",
    "\n",
    "def string_to_list_at_newline(string):\n",
    "    return string.strip().split('\\n')\n",
    "\n",
    "string_to_list_at_newline(string)"
   ]
  },
  {
   "cell_type": "markdown",
   "metadata": {},
   "source": [
    "# `extract_regex_from_list`"
   ]
  },
  {
   "cell_type": "code",
   "execution_count": 19,
   "metadata": {},
   "outputs": [
    {
     "data": {
      "text/plain": [
       "['38',\n",
       " '22',\n",
       " '23',\n",
       " '24',\n",
       " '41',\n",
       " '42',\n",
       " '39',\n",
       " '26',\n",
       " '27',\n",
       " '28',\n",
       " '43',\n",
       " '44',\n",
       " '46',\n",
       " '48',\n",
       " '50']"
      ]
     },
     "execution_count": 19,
     "metadata": {},
     "output_type": "execute_result"
    }
   ],
   "source": [
    "import re\n",
    "def extract_regex_from_list(list):\n",
    "    result = []\n",
    "    for item in list:\n",
    "        result.append(re.search(r'\\d+', item).group(0))\n",
    "    return result\n",
    "\n",
    "extract_regex_from_list(string_to_list_at_newline(string))"
   ]
  },
  {
   "cell_type": "markdown",
   "metadata": {},
   "source": [
    "# ** `newline_at_commas_string`"
   ]
  },
  {
   "cell_type": "code",
   "execution_count": 4,
   "metadata": {},
   "outputs": [
    {
     "name": "stdout",
     "output_type": "stream",
     "text": [
      "Exercise #'bq11n1' published 2024-03-24\n",
      "Exercise #'bq11n2' published 2024-03-24\n",
      "Exercise #'bqn11n2' published 2024-03-24\n",
      "Exercise #'bq11o1' published 2024-03-24\n",
      "Exercise #'bq11p' published 2024-03-24\n",
      "\n",
      "'bq11n1': '0lFHs000000tPGRMA2'\n",
      "'bq11n2': '0lFHs000000tPGRMA2'\n",
      "'bqn11n2': '0lFHs000000tPGRMA2'\n",
      "'bq11o1': '0lFHs000000tPGRMA2'\n",
      "'bq11p': '0lFHs000000tPGRMA2'\n",
      "\n"
     ]
    }
   ],
   "source": [
    "import re\n",
    "from datetime import datetime\n",
    "def newline_at_commas_string(string, line_start='Exercise #', line_end=' published', append_date=True):\n",
    "    line_end = line_end if line_end else ''\n",
    "    string = re.sub(r\"\\s+\", \"\", f'{string},')\n",
    "    string = re.sub(r\",\", \"\\n\", string.strip())\n",
    "    if line_start:\n",
    "        string = re.sub(r'(.*)\\n', fr'{line_start}\\1\\n', string)\n",
    "    if append_date:\n",
    "        line_end = f'{line_end} {datetime.now().date().strftime(\"%Y-%m-%d\")}'\n",
    "    string = re.sub(r'(.*)\\n', fr'\\1{line_end}\\n', string)\n",
    "\n",
    "    return string\n",
    "\n",
    "string = \"\"\"\n",
    "'bq11n1',\n",
    "'bq11n2',\n",
    "'bqn11n2',\n",
    "'bq11o1',\n",
    "'bq11p'\n",
    "\"\"\"\n",
    "\n",
    "print(newline_at_commas_string(string, append_date=1))\n",
    "print(newline_at_commas_string(string, append_date=0, line_start='', line_end=\": '0lFHs000000tPGRMA2'\"))"
   ]
  },
  {
   "cell_type": "code",
   "execution_count": 5,
   "metadata": {},
   "outputs": [
    {
     "name": "stdout",
     "output_type": "stream",
     "text": [
      "Exercise #1045 Equipment jumps between reps in thumbnail animation\n",
      "\n"
     ]
    }
   ],
   "source": [
    "\n",
    "\n",
    "string = \"\"\"\n",
    "1045\n",
    "\"\"\"\n",
    "\n",
    "print(newline_at_commas_string(string, line_end=' Equipment jumps between reps in thumbnail animation', append_date=False))\n",
    "# print(newline_at_commas_string(string, line_start='', line_end='', append_date=False))\n"
   ]
  },
  {
   "cell_type": "markdown",
   "metadata": {},
   "source": [
    "# `replace_whitespace_with_commas`"
   ]
  },
  {
   "cell_type": "code",
   "execution_count": 6,
   "metadata": {},
   "outputs": [
    {
     "name": "stdout",
     "output_type": "stream",
     "text": [
      "Major, Heading, Activity, Code, MET, Value, Activity, Description, Simplified, Name\n"
     ]
    }
   ],
   "source": [
    "import re\n",
    "\n",
    "def replace_whitespace_with_commas(string):\n",
    "    result = re.sub(r\"\\s+\", \", \", string.strip())\n",
    "    return result\n",
    "\n",
    "def string_to_list(string, convert_to_int=True):\n",
    "    result = replace_whitespace_with_commas(string).split(', ')\n",
    "    if convert_to_int:\n",
    "        result = [int(i) for i in result]\n",
    "    print(f'Length of list: {len(result)}')\n",
    "    return sorted(result)\n",
    "\n",
    "string = \"\"\"\n",
    "Major Heading\tActivity Code\tMET Value\tActivity Description\tSimplified Name\n",
    "\"\"\"\n",
    "print(replace_whitespace_with_commas(string))"
   ]
  },
  {
   "cell_type": "code",
   "execution_count": 7,
   "metadata": {},
   "outputs": [
    {
     "name": "stdout",
     "output_type": "stream",
     "text": [
      "Length of list: 10\n"
     ]
    },
    {
     "data": {
      "text/plain": [
       "['Activity',\n",
       " 'Activity',\n",
       " 'Code',\n",
       " 'Description',\n",
       " 'Heading',\n",
       " 'MET',\n",
       " 'Major',\n",
       " 'Name',\n",
       " 'Simplified',\n",
       " 'Value']"
      ]
     },
     "execution_count": 7,
     "metadata": {},
     "output_type": "execute_result"
    }
   ],
   "source": [
    "string_to_list(string, convert_to_int=0)"
   ]
  },
  {
   "cell_type": "code",
   "execution_count": null,
   "metadata": {},
   "outputs": [],
   "source": []
  },
  {
   "cell_type": "markdown",
   "metadata": {},
   "source": [
    "# `replace_newline` for copying to Slack"
   ]
  },
  {
   "cell_type": "code",
   "execution_count": 13,
   "metadata": {},
   "outputs": [
    {
     "name": "stdout",
     "output_type": "stream",
     "text": [
      "IF kStatus = 38, true\n",
      "IF kStatus = 22 true\n",
      "IF kStatus = 23, true\n",
      "IF kStatus = 24, true\n",
      "IF kStatus = 41, true\n",
      "IF kStatus = 42, true\n",
      "IF kStatus = 39, true\n",
      "If kStatus = 26 true\n",
      "If kStatus = 27, true\n",
      "If kStatus = 28, true\n",
      "If kStatus = 43, true\n",
      "If kStatus = 44, true\n",
      "If kStatus = 46, true\n",
      "If kStatus = 48, true\n",
      "If kStatus = 50, true\n"
     ]
    }
   ],
   "source": [
    "import re\n",
    "\n",
    "def replace_newline(string, replacement=\"\\n\"):\n",
    "    result = re.sub(r\"\\n+\", replacement, string.strip())\n",
    "    return result\n",
    "string = \"\"\"\n",
    "IF kStatus = 38, true\n",
    "IF kStatus = 22 true\n",
    "IF kStatus = 23, true\n",
    "IF kStatus = 24, true\n",
    "IF kStatus = 41, true\n",
    "IF kStatus = 42, true\n",
    "IF kStatus = 39, true\n",
    "If kStatus = 26 true\n",
    "If kStatus = 27, true\n",
    "If kStatus = 28, true\n",
    "If kStatus = 43, true\n",
    "If kStatus = 44, true\n",
    "If kStatus = 46, true\n",
    "If kStatus = 48, true\n",
    "If kStatus = 50, true\n",
    "\"\"\"\n",
    "print(replace_newline(string))"
   ]
  },
  {
   "cell_type": "markdown",
   "metadata": {},
   "source": [
    "# `newline_at_commas`"
   ]
  },
  {
   "cell_type": "code",
   "execution_count": 9,
   "metadata": {},
   "outputs": [
    {
     "name": "stdout",
     "output_type": "stream",
     "text": [
      "'bq11n1',\n",
      "'bq11n2',\n",
      "'bqn11n2',\n",
      "'bq11o1',\n",
      "'bq11p'\n"
     ]
    }
   ],
   "source": [
    "import re\n",
    "def newline_at_commas(string):\n",
    "    string = re.sub(r\"\\s+\", \"\", string)\n",
    "    return re.sub(r\",\", \",\\n\", string.strip())\n",
    "\n",
    "string = \"\"\"\n",
    "'bq11n1', 'bq11n2',\n",
    "       'bqn11n2', 'bq11o1', 'bq11p'\n",
    "\"\"\"\n",
    "\n",
    "print(newline_at_commas(string))"
   ]
  },
  {
   "cell_type": "markdown",
   "metadata": {},
   "source": [
    "# string_list_to_list_of_strings"
   ]
  },
  {
   "cell_type": "code",
   "execution_count": 10,
   "metadata": {},
   "outputs": [
    {
     "data": {
      "text/plain": [
       "['Major Heading',\n",
       " 'Activity Code',\n",
       " 'MET Value',\n",
       " 'Activity Description',\n",
       " 'Simplified Name']"
      ]
     },
     "execution_count": 10,
     "metadata": {},
     "output_type": "execute_result"
    }
   ],
   "source": [
    "def string_list_to_list_of_strings(string_list, sep=','):\n",
    "    \"\"\"\n",
    "    Convert a string of items separated by comma to a list of strings.\n",
    "    \"\"\"\n",
    "    result = string_list.strip().split(sep)\n",
    "    result = [item.strip() for item in result]\n",
    "    return result\n",
    "\n",
    "string = \"\"\"\n",
    "Major Heading, Activity Code, MET Value, Activity Description, Simplified Name\n",
    "\"\"\"\n",
    "\n",
    "string_list_to_list_of_strings(string)"
   ]
  },
  {
   "cell_type": "markdown",
   "metadata": {},
   "source": [
    "# ** lines_to_list_of_strings "
   ]
  },
  {
   "cell_type": "code",
   "execution_count": 12,
   "metadata": {},
   "outputs": [
    {
     "name": "stdout",
     "output_type": "stream",
     "text": [
      "Number of elements: 1\n"
     ]
    },
    {
     "data": {
      "text/plain": [
       "['']"
      ]
     },
     "execution_count": 12,
     "metadata": {},
     "output_type": "execute_result"
    }
   ],
   "source": [
    "def lines_to_list_of_strings(string):\n",
    "    processed_string = replace_whitespace_with_commas(string)\n",
    "    processed_string = newline_at_commas(processed_string)\n",
    "    processed_string = string_list_to_list_of_strings(processed_string)\n",
    "    print(f'Number of elements: {len(processed_string)}')\n",
    "    return processed_string\n",
    "\n",
    "string = \"\"\"\n",
    "\n",
    "\"\"\"\n",
    "# print(string)\n",
    "processed_string = lines_to_list_of_strings(string)\n",
    "processed_string\n",
    "# print([item for item in processed_string])"
   ]
  },
  {
   "cell_type": "markdown",
   "metadata": {},
   "source": [
    "# `text_to_markdown_table`"
   ]
  },
  {
   "cell_type": "code",
   "execution_count": 7,
   "metadata": {},
   "outputs": [
    {
     "name": "stdout",
     "output_type": "stream",
     "text": [
      "\n",
      "measure\tprofits\tprofits_change\trevenues_change\n",
      "profits\t1.00\t0.02\t0.02\n",
      "profits_change\t0.02\t1.00\t-0.09\n",
      "revenues_change\t0.02\t-0.09\t1.00\n",
      "\n"
     ]
    }
   ],
   "source": [
    "table_string = \"\"\"\n",
    "measure\tprofits\tprofits_change\trevenues_change\n",
    "profits\t1.00\t0.02\t0.02\n",
    "profits_change\t0.02\t1.00\t-0.09\n",
    "revenues_change\t0.02\t-0.09\t1.00\n",
    "\"\"\"\n",
    "print(table_string)"
   ]
  },
  {
   "cell_type": "code",
   "execution_count": 8,
   "metadata": {},
   "outputs": [
    {
     "name": "stdout",
     "output_type": "stream",
     "text": [
      "| measure | profits | profits_change | revenues_change |\n",
      "| --- | --- | --- | --- |\n",
      "| profits | 1.00 | 0.02 | 0.02 |\n",
      "| profits_change | 0.02 | 1.00 | -0.09 |\n",
      "| revenues_change | 0.02 | -0.09 | 1.00 |\n"
     ]
    }
   ],
   "source": [
    "def text_to_markdown_table(table_string):\n",
    "    lines = table_string.strip().split(\"\\n\")\n",
    "    header = lines[0].split(\"\\t\")\n",
    "    rows = [line.split(\"\\t\") for line in lines[1:]]\n",
    "    return \"\\n\".join([\n",
    "        \"| \" + \" | \".join(header) + \" |\",\n",
    "        \"| \" + \" | \".join([\"---\"] * len(header)) + \" |\",\n",
    "        \"\\n\".join([\n",
    "            \"| \" + \" | \".join(row) + \" |\"\n",
    "            for row in rows\n",
    "        ])\n",
    "    ])\n",
    "\n",
    "print(text_to_markdown_table(table_string))"
   ]
  },
  {
   "cell_type": "code",
   "execution_count": 9,
   "metadata": {},
   "outputs": [
    {
     "name": "stdout",
     "output_type": "stream",
     "text": [
      "Help on function text_to_markdown_table in module __main__:\n",
      "\n",
      "text_to_markdown_table(table_string)\n",
      "\n"
     ]
    }
   ],
   "source": [
    "help(text_to_markdown_table)"
   ]
  },
  {
   "cell_type": "markdown",
   "metadata": {},
   "source": [
    "# `replace_tab_with_comma` and `string_to_sql_string`"
   ]
  },
  {
   "cell_type": "code",
   "execution_count": 1,
   "metadata": {},
   "outputs": [
    {
     "name": "stdout",
     "output_type": "stream",
     "text": [
      "Number of items: 4\n",
      "ex.\"Repetitions per Set\", ex.\"Time (sec)\", ex.\"Held for time (y)\", ex.\"Pause btwn reps\"\n"
     ]
    }
   ],
   "source": [
    "import re\n",
    "def replace_tab_with_comma(string):\n",
    "    \"\"\"\n",
    "    Replace tabs with commas in a string.\n",
    "    \"\"\"\n",
    "    result = re.sub(r\"\\t+\", \", \", string.strip())\n",
    "    return result\n",
    "\n",
    "\n",
    "\n",
    "def string_to_sql_string(string, table_name=None, quotes=False):\n",
    "    \"\"\"\n",
    "    Convert a string of items separated by tab to a SQL string with items separated by commas.\n",
    "\n",
    "    Parameters\n",
    "    ----------\n",
    "    string : str\n",
    "        The string to convert.\n",
    "    table_name : str, optional\n",
    "        The name of the table. Default is None.\n",
    "    quotes : bool, optional\n",
    "        Whether to add quotes around the items. Default is True.\n",
    "\n",
    "    Returns\n",
    "    -------\n",
    "    str : SQL string with items separated by commas.\n",
    "    \"\"\"\n",
    "    result = replace_tab_with_comma(string).split(', ')\n",
    "    print(f'Number of items: {len(result)}')\n",
    "    if quotes:\n",
    "        result = [f'\\\"{item}\\\"' for item in result]\n",
    "    if table_name:\n",
    "        result = [f'{table_name}.{item}' for item in result]\n",
    "    result = ', '.join(result)\n",
    "    return result\n",
    "\n",
    "string = \"\"\"\n",
    "Repetitions per Set\tTime (sec)\tHeld for time (y)\tPause btwn reps\n",
    "\"\"\"\n",
    "print(string_to_sql_string(string, table_name='ex', quotes=1))"
   ]
  },
  {
   "cell_type": "markdown",
   "metadata": {},
   "source": [
    "# Timestamp"
   ]
  },
  {
   "cell_type": "code",
   "execution_count": 1,
   "metadata": {},
   "outputs": [
    {
     "data": {
      "text/plain": [
       "'2023-10-28 19:00:27'"
      ]
     },
     "execution_count": 1,
     "metadata": {},
     "output_type": "execute_result"
    }
   ],
   "source": [
    "\n",
    "from datetime import datetime, timezone\n",
    "datetime.now(timezone.utc).strftime('%Y-%m-%d %H:%M:%S')"
   ]
  },
  {
   "cell_type": "markdown",
   "metadata": {},
   "source": [
    "# Remove new line character (DataCamp slides)"
   ]
  },
  {
   "cell_type": "code",
   "execution_count": 3,
   "metadata": {},
   "outputs": [
    {
     "data": {
      "text/plain": [
       "'SELECT date,amount,lag(amount) OVER (ORDER BY date),amount - lag(amount) OVER (ORDER BY date) AS changeFROM sales;'"
      ]
     },
     "execution_count": 3,
     "metadata": {},
     "output_type": "execute_result"
    }
   ],
   "source": [
    "text = \"\"\"\n",
    "SELECT date,\n",
    "amount,\n",
    "lag(amount) OVER (ORDER BY date),\n",
    "amount - lag(amount) OVER (ORDER BY date) AS change\n",
    "FROM sales;\n",
    "\"\"\"\n",
    "def remove_newlines(string, replacement='', backticks=True):\n",
    "    result = string.replace('\\n', replacement)\n",
    "    if backticks:\n",
    "        result = f\"`{result}`\"\n",
    "    return result\n",
    "\n",
    "remove_newlines(text, backticks=False)"
   ]
  },
  {
   "cell_type": "code",
   "execution_count": 12,
   "metadata": {},
   "outputs": [
    {
     "name": "stdout",
     "output_type": "stream",
     "text": [
      "\n",
      "\n",
      "- AI ethics. \n",
      "\n",
      "   - One option is to send email or text message for contact to opt in that messages may be from a bot. People are still weary of AI.\n",
      "\n",
      "   - What is their current opt-in contract?\n",
      "\n",
      "- Roadmap\n",
      "\n",
      "   - Discuss\n",
      "\n",
      "   - Share\n",
      "\n",
      "- How to remove users from chatbot workflow.\n",
      "\n",
      "- Is there a need to create an appointment reminder outside of current system?\n",
      "\n",
      "- Average hourly rate for salaried software developer in Vancouver is $45/hour. On low end, $35/hour. https://www.glassdoor.ca/Salaries/software-developer-salary-SRCH_IM972_KO0,18.htm\n",
      "\n",
      "- I estimate 10-15 hours/week\n",
      "\n",
      "- Implementation costs: Bill based on usage or increase my hourly rate.\n",
      "\n",
      "   - AWS\n",
      "\n",
      "   - Open AI\n",
      "\n",
      "\n"
     ]
    }
   ],
   "source": [
    "text = \"\"\"\n",
    "- AI ethics. \n",
    "   - One option is to send email or text message for contact to opt in that messages may be from a bot. People are still weary of AI.\n",
    "   - What is their current opt-in contract?\n",
    "- Roadmap\n",
    "   - Discuss\n",
    "   - Share\n",
    "- How to remove users from chatbot workflow.\n",
    "- Is there a need to create an appointment reminder outside of current system?\n",
    "- Average hourly rate for salaried software developer in Vancouver is $45/hour. On low end, $35/hour. https://www.glassdoor.ca/Salaries/software-developer-salary-SRCH_IM972_KO0,18.htm\n",
    "- I estimate 10-15 hours/week\n",
    "- Implementation costs: Bill based on usage or increase my hourly rate.\n",
    "   - AWS\n",
    "   - Open AI\n",
    "\"\"\"\n",
    "def double_newlines(text):\n",
    "    result = text.replace('\\n', '\\n\\n')\n",
    "    return result\n",
    "print(double_newlines(text))"
   ]
  },
  {
   "cell_type": "markdown",
   "metadata": {},
   "source": [
    "# Space between numbers and letters (exercise IDs and name)"
   ]
  },
  {
   "cell_type": "code",
   "execution_count": 65,
   "metadata": {},
   "outputs": [
    {
     "name": "stdout",
     "output_type": "stream",
     "text": [
      "None\n",
      "\n",
      "- 1549 Wall March (March With Balance Support)\n",
      "- 664 Forward And Backward Jump - Continuous For Time\n",
      "- 531 Bound - Lateral, Continuous For Time\n",
      "- 821 Lateral Jump, Alternating - Continuous For Time\n",
      "- 823 Lateral Jump, Unilateral - Continuous For Time\n",
      "- 1041 Reverse Lunge With Two Arm Kettlebell Hang Clean, Unilateral - Timed\n",
      "- 983 Rear Foot Elevated Split Squat Jump - Continuous For Time\n",
      "- 1039 Reverse Lunge With Two Arm Kettlebell Hang Clean, Alternating - Timed\n",
      "- 1299 Split Squat Jump - Continuous For Time\n",
      "- 786 Jump Rope - Single Leg\n",
      "- 1340 Staggered Stance Hinge To Hop With High Knee - Continuous For Timeexplosive lunge/single leg\n",
      "- 737 High Knee Run With Lateral Translation\n",
      "- 736 High Knee Run On The Spot\n",
      "- 1264 Skip - Marching\n",
      "- 543 Butt Kick (Jog)\n",
      "- 105 Jogging On The Spot\n",
      "- 431  360  Degree Squat Jump - Continuous For Time\n",
      "- 425  180  Degree Jump Squat - Continuous For Time\n",
      "- 436  90  Degree Squat Jump - Continuous For Time\n",
      "- 1319 Squat Jump - Goblet - Continuous For Time\n",
      "- 1321 Squat Jump - Med Ball Hug - Continuous For Time\n",
      "- 2146 Squat Jump - Goblet - Continuous For Time, Kettlebell\n",
      "- 1315 Squat Jump - Forward And Backward, Continuous For Time\n",
      "- 1307 Squat - Jump - Continuous For Time\n",
      "- 1324 Squat Jump - Mini Band - Continuous For Time\n",
      "- 785 Jump Rope\n",
      "- 1488 Tall Plank Jump For Time\n",
      "- 640 Fast Feet In And Out In Partial Squat\n",
      "- 641 Fast Feet In Partial Squat With Balance Support\n",
      "- 1348 Staggered Stance Jump\n",
      "- \n"
     ]
    }
   ],
   "source": [
    "import re\n",
    "\n",
    "string = \"\"\"\n",
    "1549Wall March (March With Balance Support)\n",
    "664Forward And Backward Jump - Continuous For Time\n",
    "531Bound - Lateral, Continuous For Time\n",
    "821Lateral Jump, Alternating - Continuous For Time\n",
    "823Lateral Jump, Unilateral - Continuous For Time\n",
    "1041Reverse Lunge With Two Arm Kettlebell Hang Clean, Unilateral - Timed\n",
    "983Rear Foot Elevated Split Squat Jump - Continuous For Time\n",
    "1039Reverse Lunge With Two Arm Kettlebell Hang Clean, Alternating - Timed\n",
    "1299Split Squat Jump - Continuous For Time\n",
    "786Jump Rope - Single Leg\n",
    "1340Staggered Stance Hinge To Hop With High Knee - Continuous For Timeexplosive lunge/single leg\n",
    "737High Knee Run With Lateral Translation\n",
    "736High Knee Run On The Spot\n",
    "1264Skip - Marching\n",
    "543Butt Kick (Jog)\n",
    "105Jogging On The Spot\n",
    "431 360 Degree Squat Jump - Continuous For Time\n",
    "425 180 Degree Jump Squat - Continuous For Time\n",
    "436 90 Degree Squat Jump - Continuous For Time\n",
    "1319Squat Jump - Goblet - Continuous For Time\n",
    "1321Squat Jump - Med Ball Hug - Continuous For Time\n",
    "2146Squat Jump - Goblet - Continuous For Time, Kettlebell\n",
    "1315Squat Jump - Forward And Backward, Continuous For Time\n",
    "1307Squat - Jump - Continuous For Time\n",
    "1324Squat Jump - Mini Band - Continuous For Time\n",
    "785Jump Rope\n",
    "1488Tall Plank Jump For Time\n",
    "640Fast Feet In And Out In Partial Squat\n",
    "641Fast Feet In Partial Squat With Balance Support\n",
    "1348Staggered Stance Jump\n",
    "\"\"\"\n",
    "\n",
    "def add_whitespace_around_numbers(string):\n",
    "    result = re.sub(r'(\\d+)', r'\\1 ', string)\n",
    "    regex = r'\\n(\\d+ [a-zA-Z,])(\\d+[a-zA-Z,]+)'\n",
    "    print(re.search(regex, result))\n",
    "    \n",
    "    result = re.sub(r'\\n', r'\\n- ', result)\n",
    "    return result\n",
    "\n",
    "print(add_whitespace_around_numbers(string))"
   ]
  },
  {
   "cell_type": "code",
   "execution_count": null,
   "metadata": {},
   "outputs": [],
   "source": []
  },
  {
   "cell_type": "code",
   "execution_count": null,
   "metadata": {},
   "outputs": [],
   "source": []
  },
  {
   "cell_type": "code",
   "execution_count": null,
   "metadata": {},
   "outputs": [],
   "source": []
  },
  {
   "cell_type": "code",
   "execution_count": null,
   "metadata": {},
   "outputs": [],
   "source": []
  },
  {
   "cell_type": "code",
   "execution_count": null,
   "metadata": {},
   "outputs": [],
   "source": []
  },
  {
   "cell_type": "code",
   "execution_count": null,
   "metadata": {},
   "outputs": [],
   "source": []
  },
  {
   "cell_type": "code",
   "execution_count": null,
   "metadata": {},
   "outputs": [],
   "source": []
  },
  {
   "cell_type": "code",
   "execution_count": null,
   "metadata": {},
   "outputs": [],
   "source": []
  },
  {
   "cell_type": "code",
   "execution_count": null,
   "metadata": {},
   "outputs": [],
   "source": []
  },
  {
   "cell_type": "code",
   "execution_count": null,
   "metadata": {},
   "outputs": [],
   "source": []
  },
  {
   "cell_type": "code",
   "execution_count": null,
   "metadata": {},
   "outputs": [],
   "source": []
  },
  {
   "attachments": {},
   "cell_type": "markdown",
   "metadata": {},
   "source": [
    "# *End of Page*"
   ]
  }
 ],
 "metadata": {
  "kernelspec": {
   "display_name": "Python 3.9.13 64-bit",
   "language": "python",
   "name": "python3"
  },
  "language_info": {
   "codemirror_mode": {
    "name": "ipython",
    "version": 3
   },
   "file_extension": ".py",
   "mimetype": "text/x-python",
   "name": "python",
   "nbconvert_exporter": "python",
   "pygments_lexer": "ipython3",
   "version": "3.12.1"
  },
  "orig_nbformat": 4,
  "vscode": {
   "interpreter": {
    "hash": "11938c6bc6919ae2720b4d5011047913343b08a43b18698fd82dedb0d4417594"
   }
  }
 },
 "nbformat": 4,
 "nbformat_minor": 2
}
