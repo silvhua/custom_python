{
 "cells": [
  {
   "cell_type": "markdown",
   "metadata": {},
   "source": [
    "# `newline_at_commas_string`"
   ]
  },
  {
   "cell_type": "code",
   "execution_count": 2,
   "metadata": {},
   "outputs": [
    {
     "name": "stdout",
     "output_type": "stream",
     "text": [
      "Exercise #860 republished 2024-02-06\n",
      "Exercise #861 republished 2024-02-06\n",
      "Exercise #862 republished 2024-02-06\n",
      "\n"
     ]
    }
   ],
   "source": [
    "import re\n",
    "from datetime import datetime\n",
    "def newline_at_commas_string(string, line_start='Exercise #', line_end=' republished', append_date=True):\n",
    "    line_end = line_end if line_end else ''\n",
    "    string = re.sub(r\"\\s+\", \"\", f'{string},')\n",
    "    string = re.sub(r\",\", \"\\n\", string.strip())\n",
    "    if line_start:\n",
    "        string = re.sub(r'(.*)\\n', fr'{line_start}\\1\\n', string)\n",
    "    if append_date:\n",
    "        line_end = f'{line_end} {datetime.now().date().strftime(\"%Y-%m-%d\")}'\n",
    "    string = re.sub(r'(.*)\\n', fr'\\1{line_end}\\n', string)\n",
    "\n",
    "    return string\n",
    "\n",
    "string = \"\"\"\n",
    "860, 861, 862\n",
    "\"\"\"\n",
    "\n",
    "print(newline_at_commas_string(string, append_date=1))"
   ]
  },
  {
   "cell_type": "code",
   "execution_count": 5,
   "metadata": {},
   "outputs": [
    {
     "name": "stdout",
     "output_type": "stream",
     "text": [
      "Exercise #1045 Equipment jumps between reps in thumbnail animation\n",
      "\n"
     ]
    }
   ],
   "source": [
    "\n",
    "\n",
    "string = \"\"\"\n",
    "1045\n",
    "\"\"\"\n",
    "\n",
    "print(newline_at_commas_string(string, line_end=' Equipment jumps between reps in thumbnail animation', append_date=False))\n",
    "# print(newline_at_commas_string(string, line_start='', line_end='', append_date=False))\n"
   ]
  },
  {
   "cell_type": "markdown",
   "metadata": {},
   "source": [
    "# `replace_whitespace_with_commas`"
   ]
  },
  {
   "cell_type": "code",
   "execution_count": 3,
   "metadata": {},
   "outputs": [
    {
     "name": "stdout",
     "output_type": "stream",
     "text": [
      "189, 195, 540, 670, 671\n"
     ]
    }
   ],
   "source": [
    "import re\n",
    "\n",
    "def replace_whitespace_with_commas(string):\n",
    "    result = re.sub(r\"\\s+\", \", \", string.strip())\n",
    "    return result\n",
    "\n",
    "def string_to_list(string, convert_to_int=True):\n",
    "    result = replace_whitespace_with_commas(string).split(', ')\n",
    "    if convert_to_int:\n",
    "        result = [int(i) for i in result]\n",
    "    print(f'Length of list: {len(result)}')\n",
    "    return sorted(result)\n",
    "\n",
    "string = \"\"\"\n",
    "189\n",
    "195\n",
    "540\n",
    "670\n",
    "671\n",
    "\"\"\"\n",
    "print(replace_whitespace_with_commas(string))"
   ]
  },
  {
   "cell_type": "code",
   "execution_count": 14,
   "metadata": {},
   "outputs": [
    {
     "name": "stdout",
     "output_type": "stream",
     "text": [
      "Length of list: 13\n"
     ]
    },
    {
     "data": {
      "text/plain": [
       "['gpt-3.5-turbo',\n",
       " 'gpt-3.5-turbo-0301',\n",
       " 'gpt-3.5-turbo-0613',\n",
       " 'gpt-3.5-turbo-1106',\n",
       " 'gpt-3.5-turbo-16k',\n",
       " 'gpt-3.5-turbo-16k-0613',\n",
       " 'gpt-3.5-turbo-instruct',\n",
       " 'gpt-3.5-turbo-instruct-0914',\n",
       " 'gpt-4',\n",
       " 'gpt-4-0314',\n",
       " 'gpt-4-0613',\n",
       " 'gpt-4-1106-preview',\n",
       " 'gpt-4-vision-preview']"
      ]
     },
     "execution_count": 14,
     "metadata": {},
     "output_type": "execute_result"
    }
   ],
   "source": [
    "string_to_list(string, convert_to_int=0)"
   ]
  },
  {
   "cell_type": "markdown",
   "metadata": {},
   "source": [
    "# `replace_newline` for copying to Slack"
   ]
  },
  {
   "cell_type": "code",
   "execution_count": 5,
   "metadata": {},
   "outputs": [
    {
     "name": "stdout",
     "output_type": "stream",
     "text": [
      "exr_494 - https://youtu.be/IlF6LBvVJOY?si=GQ8EhywaNnq3Z1YU\n",
      "exr_570 - https://youtu.be/prG9AN53PH4?si=btvHjlfhHu8e5gbI\n",
      "exr_563 - Like what is shown here, but then lifting one knee to the chest once in the bridge position: https://youtu.be/1IzXrUrezjM\n",
      "exr_1435 - https://drive.google.com/file/d/10B-LnnBICPo18zRgNfmVBVO9HJLzluhc/view?usp=sharing\n",
      "exr_582 - https://youtu.be/_MW_vn7hk-0?si=tzlqtUBmFB0KZ0AU\n",
      "exr_1051 - https://youtu.be/Zvl5JS3kGis?si=IYp_36rIJL0iu_-3\n",
      "exr_1297 - https://youtu.be/-WCz01E38A0\n",
      "exr_1262 - https://drive.google.com/file/d/1E83K7mFr6TUD7ODVUY0WjiLT3UqwrbsR/view?usp=drive_link\n",
      "exr_2274 - https://drive.google.com/file/d/1GpbxrCMtg5fkCBMmU3XBwI7uXNx75EF0/view?usp=drive_link\n",
      "exr_442 - https://youtu.be/OwBnwJ0IpT4?si=GDwM2pqp6BbZt5yB\n",
      "exr_1492 - https://youtu.be/HPq0QkyXJ2c?si=BvHw3DoJUcRoYErL\n",
      "exr_594 - https://youtu.be/-xltjgWrzdQ\n",
      "exr_630 - https://youtube.com/shorts/V3ZHIvkgY9w\n",
      "exr_716 - https://youtu.be/i7CQboKuizQ?si=yl3dg1y8OilyOgDy\n",
      "exr_711 - https://youtu.be/B6bAgIz9uFw?si=yP4aSqNLCJOeSvsI\n",
      "exr_90 - https://youtu.be/vhzc6g4Acq0?si=BTeUQcmR-nsKUM3D\n"
     ]
    }
   ],
   "source": [
    "import re\n",
    "\n",
    "def replace_newline(string, replacement=\"\\n\"):\n",
    "    result = re.sub(r\"\\n+\", replacement, string.strip())\n",
    "    return result\n",
    "string = \"\"\"\n",
    "exr_494 - https://youtu.be/IlF6LBvVJOY?si=GQ8EhywaNnq3Z1YU\n",
    "exr_570 - https://youtu.be/prG9AN53PH4?si=btvHjlfhHu8e5gbI\n",
    "exr_563 - Like what is shown here, but then lifting one knee to the chest once in the bridge position: https://youtu.be/1IzXrUrezjM\n",
    "exr_1435 - https://drive.google.com/file/d/10B-LnnBICPo18zRgNfmVBVO9HJLzluhc/view?usp=sharing\n",
    "exr_582 - https://youtu.be/_MW_vn7hk-0?si=tzlqtUBmFB0KZ0AU\n",
    "exr_1051 - https://youtu.be/Zvl5JS3kGis?si=IYp_36rIJL0iu_-3\n",
    "exr_1297 - https://youtu.be/-WCz01E38A0\n",
    "exr_1262 - https://drive.google.com/file/d/1E83K7mFr6TUD7ODVUY0WjiLT3UqwrbsR/view?usp=drive_link\n",
    "exr_2274 - https://drive.google.com/file/d/1GpbxrCMtg5fkCBMmU3XBwI7uXNx75EF0/view?usp=drive_link\n",
    "exr_442 - https://youtu.be/OwBnwJ0IpT4?si=GDwM2pqp6BbZt5yB\n",
    "exr_1492 - https://youtu.be/HPq0QkyXJ2c?si=BvHw3DoJUcRoYErL\n",
    "exr_594 - https://youtu.be/-xltjgWrzdQ\n",
    "exr_630 - https://youtube.com/shorts/V3ZHIvkgY9w\n",
    "exr_716 - https://youtu.be/i7CQboKuizQ?si=yl3dg1y8OilyOgDy\n",
    "exr_711 - https://youtu.be/B6bAgIz9uFw?si=yP4aSqNLCJOeSvsI\n",
    "exr_90 - https://youtu.be/vhzc6g4Acq0?si=BTeUQcmR-nsKUM3D\n",
    "\"\"\"\n",
    "print(replace_newline(string))"
   ]
  },
  {
   "cell_type": "markdown",
   "metadata": {},
   "source": [
    "# `newline_at_commas`"
   ]
  },
  {
   "cell_type": "code",
   "execution_count": 5,
   "metadata": {},
   "outputs": [
    {
     "name": "stdout",
     "output_type": "stream",
     "text": [
      "'SessionId',\n",
      "'dateAdded',\n",
      "'business',\n",
      "'attachments',\n",
      "'locationId',\n",
      "'conversationId',\n",
      "'contentType',\n",
      "'body',\n",
      "'type',\n",
      "'userId',\n",
      "'dueDate',\n",
      "'id',\n",
      "'title',\n",
      "'assignedTo'\n"
     ]
    }
   ],
   "source": [
    "import re\n",
    "def newline_at_commas(string):\n",
    "    string = re.sub(r\"\\s+\", \"\", string)\n",
    "    return re.sub(r\",\", \",\\n\", string.strip())\n",
    "\n",
    "string = \"\"\"\n",
    "'SessionId', 'dateAdded', 'business',\n",
    "       'attachments', 'locationId', 'conversationId', 'contentType', 'body',\n",
    "       'type', 'userId', 'dueDate', 'id', 'title', 'assignedTo'\n",
    "\"\"\"\n",
    "\n",
    "print(newline_at_commas(string))"
   ]
  },
  {
   "cell_type": "markdown",
   "metadata": {},
   "source": [
    "# string_list_to_list_of_strings"
   ]
  },
  {
   "cell_type": "code",
   "execution_count": 20,
   "metadata": {},
   "outputs": [
    {
     "data": {
      "text/plain": [
       "['Food & Dining',\n",
       " 'Groceries',\n",
       " 'Coffee Shops',\n",
       " 'Credit Card Payment',\n",
       " 'Electronics & Software',\n",
       " 'Sports',\n",
       " 'Restaurants',\n",
       " 'Business Software',\n",
       " 'Entertainment',\n",
       " 'Pharmacy',\n",
       " 'Home Improvement',\n",
       " 'Books',\n",
       " 'Clothing',\n",
       " 'Education',\n",
       " 'networking',\n",
       " 'Mobile Phone',\n",
       " 'Television',\n",
       " 'Allied Health',\n",
       " 'Gift',\n",
       " 'Fast Food',\n",
       " 'Alcohol & Bars',\n",
       " 'Health & Fitness',\n",
       " 'Doctor',\n",
       " 'Newspapers & Magazines',\n",
       " 'Personal Care',\n",
       " 'Business Services',\n",
       " 'Amusement',\n",
       " 'Travel',\n",
       " 'Utilities',\n",
       " '']"
      ]
     },
     "execution_count": 20,
     "metadata": {},
     "output_type": "execute_result"
    }
   ],
   "source": [
    "def string_list_to_list_of_strings(string_list, sep=','):\n",
    "    \"\"\"\n",
    "    Convert a string of items separated by comma to a list of strings.\n",
    "    \"\"\"\n",
    "    result = string_list.strip().split(sep)\n",
    "    result = [item.strip() for item in result]\n",
    "    return result\n",
    "\n",
    "string = \"\"\"\n",
    "Food & Dining,\n",
    "Groceries,\n",
    "Coffee Shops,\n",
    "Credit Card Payment,\n",
    "Electronics & Software,\n",
    "Sports,\n",
    "Restaurants,\n",
    "Business Software,\n",
    "Entertainment,\n",
    "Pharmacy,\n",
    "Home Improvement,\n",
    "Books,\n",
    "Clothing,\n",
    "Education,\n",
    "networking,\n",
    "Mobile Phone,\n",
    "Television,\n",
    "Allied Health,\n",
    "Gift,\n",
    "Fast Food,\n",
    "Alcohol & Bars,\n",
    "Health & Fitness,\n",
    "Doctor,\n",
    "Newspapers & Magazines,\n",
    "Personal Care,\n",
    "Business Services,\n",
    "Amusement,\n",
    "Travel,\n",
    "Utilities,\n",
    "\"\"\"\n",
    "\n",
    "string_list_to_list_of_strings(string)"
   ]
  },
  {
   "cell_type": "markdown",
   "metadata": {},
   "source": [
    "# `text_to_markdown_table`"
   ]
  },
  {
   "cell_type": "code",
   "execution_count": 7,
   "metadata": {},
   "outputs": [
    {
     "name": "stdout",
     "output_type": "stream",
     "text": [
      "\n",
      "measure\tprofits\tprofits_change\trevenues_change\n",
      "profits\t1.00\t0.02\t0.02\n",
      "profits_change\t0.02\t1.00\t-0.09\n",
      "revenues_change\t0.02\t-0.09\t1.00\n",
      "\n"
     ]
    }
   ],
   "source": [
    "table_string = \"\"\"\n",
    "measure\tprofits\tprofits_change\trevenues_change\n",
    "profits\t1.00\t0.02\t0.02\n",
    "profits_change\t0.02\t1.00\t-0.09\n",
    "revenues_change\t0.02\t-0.09\t1.00\n",
    "\"\"\"\n",
    "print(table_string)"
   ]
  },
  {
   "cell_type": "code",
   "execution_count": 8,
   "metadata": {},
   "outputs": [
    {
     "name": "stdout",
     "output_type": "stream",
     "text": [
      "| measure | profits | profits_change | revenues_change |\n",
      "| --- | --- | --- | --- |\n",
      "| profits | 1.00 | 0.02 | 0.02 |\n",
      "| profits_change | 0.02 | 1.00 | -0.09 |\n",
      "| revenues_change | 0.02 | -0.09 | 1.00 |\n"
     ]
    }
   ],
   "source": [
    "def text_to_markdown_table(table_string):\n",
    "    lines = table_string.strip().split(\"\\n\")\n",
    "    header = lines[0].split(\"\\t\")\n",
    "    rows = [line.split(\"\\t\") for line in lines[1:]]\n",
    "    return \"\\n\".join([\n",
    "        \"| \" + \" | \".join(header) + \" |\",\n",
    "        \"| \" + \" | \".join([\"---\"] * len(header)) + \" |\",\n",
    "        \"\\n\".join([\n",
    "            \"| \" + \" | \".join(row) + \" |\"\n",
    "            for row in rows\n",
    "        ])\n",
    "    ])\n",
    "\n",
    "print(text_to_markdown_table(table_string))"
   ]
  },
  {
   "cell_type": "code",
   "execution_count": 9,
   "metadata": {},
   "outputs": [
    {
     "name": "stdout",
     "output_type": "stream",
     "text": [
      "Help on function text_to_markdown_table in module __main__:\n",
      "\n",
      "text_to_markdown_table(table_string)\n",
      "\n"
     ]
    }
   ],
   "source": [
    "help(text_to_markdown_table)"
   ]
  },
  {
   "cell_type": "markdown",
   "metadata": {},
   "source": [
    "# `replace_tab_with_comma` and `string_to_sql_string`"
   ]
  },
  {
   "cell_type": "code",
   "execution_count": 1,
   "metadata": {},
   "outputs": [
    {
     "name": "stdout",
     "output_type": "stream",
     "text": [
      "Number of items: 4\n",
      "ex.\"Repetitions per Set\", ex.\"Time (sec)\", ex.\"Held for time (y)\", ex.\"Pause btwn reps\"\n"
     ]
    }
   ],
   "source": [
    "import re\n",
    "def replace_tab_with_comma(string):\n",
    "    \"\"\"\n",
    "    Replace tabs with commas in a string.\n",
    "    \"\"\"\n",
    "    result = re.sub(r\"\\t+\", \", \", string.strip())\n",
    "    return result\n",
    "\n",
    "\n",
    "\n",
    "def string_to_sql_string(string, table_name=None, quotes=False):\n",
    "    \"\"\"\n",
    "    Convert a string of items separated by tab to a SQL string with items separated by commas.\n",
    "\n",
    "    Parameters\n",
    "    ----------\n",
    "    string : str\n",
    "        The string to convert.\n",
    "    table_name : str, optional\n",
    "        The name of the table. Default is None.\n",
    "    quotes : bool, optional\n",
    "        Whether to add quotes around the items. Default is True.\n",
    "\n",
    "    Returns\n",
    "    -------\n",
    "    str : SQL string with items separated by commas.\n",
    "    \"\"\"\n",
    "    result = replace_tab_with_comma(string).split(', ')\n",
    "    print(f'Number of items: {len(result)}')\n",
    "    if quotes:\n",
    "        result = [f'\\\"{item}\\\"' for item in result]\n",
    "    if table_name:\n",
    "        result = [f'{table_name}.{item}' for item in result]\n",
    "    result = ', '.join(result)\n",
    "    return result\n",
    "\n",
    "string = \"\"\"\n",
    "Repetitions per Set\tTime (sec)\tHeld for time (y)\tPause btwn reps\n",
    "\"\"\"\n",
    "print(string_to_sql_string(string, table_name='ex', quotes=1))"
   ]
  },
  {
   "cell_type": "markdown",
   "metadata": {},
   "source": [
    "# Timestamp"
   ]
  },
  {
   "cell_type": "code",
   "execution_count": 1,
   "metadata": {},
   "outputs": [
    {
     "data": {
      "text/plain": [
       "'2023-10-28 19:00:27'"
      ]
     },
     "execution_count": 1,
     "metadata": {},
     "output_type": "execute_result"
    }
   ],
   "source": [
    "\n",
    "from datetime import datetime, timezone\n",
    "datetime.now(timezone.utc).strftime('%Y-%m-%d %H:%M:%S')"
   ]
  },
  {
   "cell_type": "markdown",
   "metadata": {},
   "source": [
    "# Remove new line character (DataCamp slides)"
   ]
  },
  {
   "cell_type": "code",
   "execution_count": 3,
   "metadata": {},
   "outputs": [
    {
     "data": {
      "text/plain": [
       "'SELECT date,amount,lag(amount) OVER (ORDER BY date),amount - lag(amount) OVER (ORDER BY date) AS changeFROM sales;'"
      ]
     },
     "execution_count": 3,
     "metadata": {},
     "output_type": "execute_result"
    }
   ],
   "source": [
    "text = \"\"\"\n",
    "SELECT date,\n",
    "amount,\n",
    "lag(amount) OVER (ORDER BY date),\n",
    "amount - lag(amount) OVER (ORDER BY date) AS change\n",
    "FROM sales;\n",
    "\"\"\"\n",
    "def remove_newlines(string, replacement='', backticks=True):\n",
    "    result = string.replace('\\n', replacement)\n",
    "    if backticks:\n",
    "        result = f\"`{result}`\"\n",
    "    return result\n",
    "\n",
    "remove_newlines(text, backticks=False)"
   ]
  },
  {
   "cell_type": "code",
   "execution_count": 12,
   "metadata": {},
   "outputs": [
    {
     "name": "stdout",
     "output_type": "stream",
     "text": [
      "\n",
      "\n",
      "- AI ethics. \n",
      "\n",
      "   - One option is to send email or text message for contact to opt in that messages may be from a bot. People are still weary of AI.\n",
      "\n",
      "   - What is their current opt-in contract?\n",
      "\n",
      "- Roadmap\n",
      "\n",
      "   - Discuss\n",
      "\n",
      "   - Share\n",
      "\n",
      "- How to remove users from chatbot workflow.\n",
      "\n",
      "- Is there a need to create an appointment reminder outside of current system?\n",
      "\n",
      "- Average hourly rate for salaried software developer in Vancouver is $45/hour. On low end, $35/hour. https://www.glassdoor.ca/Salaries/software-developer-salary-SRCH_IM972_KO0,18.htm\n",
      "\n",
      "- I estimate 10-15 hours/week\n",
      "\n",
      "- Implementation costs: Bill based on usage or increase my hourly rate.\n",
      "\n",
      "   - AWS\n",
      "\n",
      "   - Open AI\n",
      "\n",
      "\n"
     ]
    }
   ],
   "source": [
    "text = \"\"\"\n",
    "- AI ethics. \n",
    "   - One option is to send email or text message for contact to opt in that messages may be from a bot. People are still weary of AI.\n",
    "   - What is their current opt-in contract?\n",
    "- Roadmap\n",
    "   - Discuss\n",
    "   - Share\n",
    "- How to remove users from chatbot workflow.\n",
    "- Is there a need to create an appointment reminder outside of current system?\n",
    "- Average hourly rate for salaried software developer in Vancouver is $45/hour. On low end, $35/hour. https://www.glassdoor.ca/Salaries/software-developer-salary-SRCH_IM972_KO0,18.htm\n",
    "- I estimate 10-15 hours/week\n",
    "- Implementation costs: Bill based on usage or increase my hourly rate.\n",
    "   - AWS\n",
    "   - Open AI\n",
    "\"\"\"\n",
    "def double_newlines(text):\n",
    "    result = text.replace('\\n', '\\n\\n')\n",
    "    return result\n",
    "print(double_newlines(text))"
   ]
  },
  {
   "cell_type": "code",
   "execution_count": null,
   "metadata": {},
   "outputs": [],
   "source": []
  },
  {
   "cell_type": "code",
   "execution_count": null,
   "metadata": {},
   "outputs": [],
   "source": []
  },
  {
   "cell_type": "code",
   "execution_count": null,
   "metadata": {},
   "outputs": [],
   "source": []
  },
  {
   "cell_type": "code",
   "execution_count": null,
   "metadata": {},
   "outputs": [],
   "source": []
  },
  {
   "cell_type": "code",
   "execution_count": null,
   "metadata": {},
   "outputs": [],
   "source": []
  },
  {
   "cell_type": "code",
   "execution_count": null,
   "metadata": {},
   "outputs": [],
   "source": []
  },
  {
   "cell_type": "code",
   "execution_count": null,
   "metadata": {},
   "outputs": [],
   "source": []
  },
  {
   "cell_type": "code",
   "execution_count": null,
   "metadata": {},
   "outputs": [],
   "source": []
  },
  {
   "cell_type": "code",
   "execution_count": null,
   "metadata": {},
   "outputs": [],
   "source": []
  },
  {
   "cell_type": "code",
   "execution_count": null,
   "metadata": {},
   "outputs": [],
   "source": []
  },
  {
   "cell_type": "code",
   "execution_count": null,
   "metadata": {},
   "outputs": [],
   "source": []
  },
  {
   "cell_type": "code",
   "execution_count": null,
   "metadata": {},
   "outputs": [],
   "source": []
  },
  {
   "attachments": {},
   "cell_type": "markdown",
   "metadata": {},
   "source": [
    "# *End of Page*"
   ]
  }
 ],
 "metadata": {
  "kernelspec": {
   "display_name": "Python 3.9.13 64-bit",
   "language": "python",
   "name": "python3"
  },
  "language_info": {
   "codemirror_mode": {
    "name": "ipython",
    "version": 3
   },
   "file_extension": ".py",
   "mimetype": "text/x-python",
   "name": "python",
   "nbconvert_exporter": "python",
   "pygments_lexer": "ipython3",
   "version": "3.12.1"
  },
  "orig_nbformat": 4,
  "vscode": {
   "interpreter": {
    "hash": "11938c6bc6919ae2720b4d5011047913343b08a43b18698fd82dedb0d4417594"
   }
  }
 },
 "nbformat": 4,
 "nbformat_minor": 2
}
