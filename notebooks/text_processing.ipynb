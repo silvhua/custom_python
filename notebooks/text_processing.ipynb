{
 "cells": [
  {
   "attachments": {},
   "cell_type": "markdown",
   "metadata": {},
   "source": [
    "# Title\n",
    "[]()"
   ]
  },
  {
   "cell_type": "markdown",
   "metadata": {},
   "source": [
    "# `replace_whitespace_with_commas`"
   ]
  },
  {
   "cell_type": "code",
   "execution_count": 11,
   "metadata": {},
   "outputs": [
    {
     "name": "stdout",
     "output_type": "stream",
     "text": [
      "gpt-4, gpt-3.5-turbo-16k, gpt-3.5-turbo-instruct, gpt-3.5-turbo-instruct-0914, gpt-4-vision-preview, gpt-4-0314, gpt-4-0613, gpt-3.5-turbo-16k-0613, gpt-3.5-turbo-1106, gpt-3.5-turbo-0613, gpt-4-1106-preview, gpt-3.5-turbo-0301, gpt-3.5-turbo\n"
     ]
    }
   ],
   "source": [
    "import re\n",
    "\n",
    "def replace_whitespace_with_commas(string):\n",
    "    result = re.sub(r\"\\s+\", \", \", string.strip())\n",
    "    return result\n",
    "\n",
    "def string_to_list(string, convert_to_int=True):\n",
    "    result = replace_whitespace_with_commas(string).split(', ')\n",
    "    if convert_to_int:\n",
    "        result = [int(i) for i in result]\n",
    "    print(f'Length of list: {len(result)}')\n",
    "    return sorted(result)\n",
    "\n",
    "string = \"\"\"\n",
    "gpt-4\n",
    "gpt-3.5-turbo-16k\n",
    "gpt-3.5-turbo-instruct\n",
    "gpt-3.5-turbo-instruct-0914\n",
    "gpt-4-vision-preview\n",
    "gpt-4-0314\n",
    "gpt-4-0613\n",
    "gpt-3.5-turbo-16k-0613\n",
    "gpt-3.5-turbo-1106\n",
    "gpt-3.5-turbo-0613\n",
    "gpt-4-1106-preview\n",
    "gpt-3.5-turbo-0301\n",
    "gpt-3.5-turbo\n",
    "\"\"\"\n",
    "print(replace_whitespace_with_commas(string))"
   ]
  },
  {
   "cell_type": "code",
   "execution_count": 12,
   "metadata": {},
   "outputs": [
    {
     "name": "stdout",
     "output_type": "stream",
     "text": [
      "Length of list: 13\n"
     ]
    },
    {
     "data": {
      "text/plain": [
       "['gpt-3.5-turbo',\n",
       " 'gpt-3.5-turbo-0301',\n",
       " 'gpt-3.5-turbo-0613',\n",
       " 'gpt-3.5-turbo-1106',\n",
       " 'gpt-3.5-turbo-16k',\n",
       " 'gpt-3.5-turbo-16k-0613',\n",
       " 'gpt-3.5-turbo-instruct',\n",
       " 'gpt-3.5-turbo-instruct-0914',\n",
       " 'gpt-4',\n",
       " 'gpt-4-0314',\n",
       " 'gpt-4-0613',\n",
       " 'gpt-4-1106-preview',\n",
       " 'gpt-4-vision-preview']"
      ]
     },
     "execution_count": 12,
     "metadata": {},
     "output_type": "execute_result"
    }
   ],
   "source": [
    "string_to_list(string, convert_to_int=0)"
   ]
  },
  {
   "cell_type": "markdown",
   "metadata": {},
   "source": [
    "# `text_to_markdown_table`"
   ]
  },
  {
   "cell_type": "code",
   "execution_count": 7,
   "metadata": {},
   "outputs": [
    {
     "name": "stdout",
     "output_type": "stream",
     "text": [
      "\n",
      "measure\tprofits\tprofits_change\trevenues_change\n",
      "profits\t1.00\t0.02\t0.02\n",
      "profits_change\t0.02\t1.00\t-0.09\n",
      "revenues_change\t0.02\t-0.09\t1.00\n",
      "\n"
     ]
    }
   ],
   "source": [
    "table_string = \"\"\"\n",
    "measure\tprofits\tprofits_change\trevenues_change\n",
    "profits\t1.00\t0.02\t0.02\n",
    "profits_change\t0.02\t1.00\t-0.09\n",
    "revenues_change\t0.02\t-0.09\t1.00\n",
    "\"\"\"\n",
    "print(table_string)"
   ]
  },
  {
   "cell_type": "code",
   "execution_count": 8,
   "metadata": {},
   "outputs": [
    {
     "name": "stdout",
     "output_type": "stream",
     "text": [
      "| measure | profits | profits_change | revenues_change |\n",
      "| --- | --- | --- | --- |\n",
      "| profits | 1.00 | 0.02 | 0.02 |\n",
      "| profits_change | 0.02 | 1.00 | -0.09 |\n",
      "| revenues_change | 0.02 | -0.09 | 1.00 |\n"
     ]
    }
   ],
   "source": [
    "def text_to_markdown_table(table_string):\n",
    "    lines = table_string.strip().split(\"\\n\")\n",
    "    header = lines[0].split(\"\\t\")\n",
    "    rows = [line.split(\"\\t\") for line in lines[1:]]\n",
    "    return \"\\n\".join([\n",
    "        \"| \" + \" | \".join(header) + \" |\",\n",
    "        \"| \" + \" | \".join([\"---\"] * len(header)) + \" |\",\n",
    "        \"\\n\".join([\n",
    "            \"| \" + \" | \".join(row) + \" |\"\n",
    "            for row in rows\n",
    "        ])\n",
    "    ])\n",
    "\n",
    "print(text_to_markdown_table(table_string))"
   ]
  },
  {
   "cell_type": "code",
   "execution_count": 9,
   "metadata": {},
   "outputs": [
    {
     "name": "stdout",
     "output_type": "stream",
     "text": [
      "Help on function text_to_markdown_table in module __main__:\n",
      "\n",
      "text_to_markdown_table(table_string)\n",
      "\n"
     ]
    }
   ],
   "source": [
    "help(text_to_markdown_table)"
   ]
  },
  {
   "cell_type": "markdown",
   "metadata": {},
   "source": [
    "# `replace_tab_with_comma` and `string_to_sql_string`"
   ]
  },
  {
   "cell_type": "code",
   "execution_count": 1,
   "metadata": {},
   "outputs": [
    {
     "name": "stdout",
     "output_type": "stream",
     "text": [
      "Number of items: 4\n",
      "ex.\"Repetitions per Set\", ex.\"Time (sec)\", ex.\"Held for time (y)\", ex.\"Pause btwn reps\"\n"
     ]
    }
   ],
   "source": [
    "import re\n",
    "def replace_tab_with_comma(string):\n",
    "    \"\"\"\n",
    "    Replace tabs with commas in a string.\n",
    "    \"\"\"\n",
    "    result = re.sub(r\"\\t+\", \", \", string.strip())\n",
    "    return result\n",
    "\n",
    "\n",
    "\n",
    "def string_to_sql_string(string, table_name=None, quotes=False):\n",
    "    \"\"\"\n",
    "    Convert a string of items separated by tab to a SQL string with items separated by commas.\n",
    "\n",
    "    Parameters\n",
    "    ----------\n",
    "    string : str\n",
    "        The string to convert.\n",
    "    table_name : str, optional\n",
    "        The name of the table. Default is None.\n",
    "    quotes : bool, optional\n",
    "        Whether to add quotes around the items. Default is True.\n",
    "\n",
    "    Returns\n",
    "    -------\n",
    "    str : SQL string with items separated by commas.\n",
    "    \"\"\"\n",
    "    result = replace_tab_with_comma(string).split(', ')\n",
    "    print(f'Number of items: {len(result)}')\n",
    "    if quotes:\n",
    "        result = [f'\\\"{item}\\\"' for item in result]\n",
    "    if table_name:\n",
    "        result = [f'{table_name}.{item}' for item in result]\n",
    "    result = ', '.join(result)\n",
    "    return result\n",
    "\n",
    "string = \"\"\"\n",
    "Repetitions per Set\tTime (sec)\tHeld for time (y)\tPause btwn reps\n",
    "\"\"\"\n",
    "print(string_to_sql_string(string, table_name='ex', quotes=1))"
   ]
  },
  {
   "cell_type": "markdown",
   "metadata": {},
   "source": [
    "# Timestamp"
   ]
  },
  {
   "cell_type": "code",
   "execution_count": 1,
   "metadata": {},
   "outputs": [
    {
     "data": {
      "text/plain": [
       "'2023-10-28 19:00:27'"
      ]
     },
     "execution_count": 1,
     "metadata": {},
     "output_type": "execute_result"
    }
   ],
   "source": [
    "\n",
    "from datetime import datetime, timezone\n",
    "datetime.now(timezone.utc).strftime('%Y-%m-%d %H:%M:%S')"
   ]
  },
  {
   "cell_type": "markdown",
   "metadata": {},
   "source": [
    "# Remove new line character (DataCamp slides)"
   ]
  },
  {
   "cell_type": "code",
   "execution_count": 3,
   "metadata": {},
   "outputs": [
    {
     "data": {
      "text/plain": [
       "'SELECT date,amount,lag(amount) OVER (ORDER BY date),amount - lag(amount) OVER (ORDER BY date) AS changeFROM sales;'"
      ]
     },
     "execution_count": 3,
     "metadata": {},
     "output_type": "execute_result"
    }
   ],
   "source": [
    "text = \"\"\"\n",
    "SELECT date,\n",
    "amount,\n",
    "lag(amount) OVER (ORDER BY date),\n",
    "amount - lag(amount) OVER (ORDER BY date) AS change\n",
    "FROM sales;\n",
    "\"\"\"\n",
    "def remove_newlines(string, replacement='', backticks=True):\n",
    "    result = string.replace('\\n', replacement)\n",
    "    if backticks:\n",
    "        result = f\"`{result}`\"\n",
    "    return result\n",
    "\n",
    "remove_newlines(text, backticks=False)"
   ]
  },
  {
   "cell_type": "code",
   "execution_count": null,
   "metadata": {},
   "outputs": [],
   "source": []
  },
  {
   "cell_type": "code",
   "execution_count": null,
   "metadata": {},
   "outputs": [],
   "source": []
  },
  {
   "cell_type": "code",
   "execution_count": null,
   "metadata": {},
   "outputs": [],
   "source": []
  },
  {
   "cell_type": "code",
   "execution_count": null,
   "metadata": {},
   "outputs": [],
   "source": []
  },
  {
   "cell_type": "code",
   "execution_count": null,
   "metadata": {},
   "outputs": [],
   "source": []
  },
  {
   "cell_type": "code",
   "execution_count": null,
   "metadata": {},
   "outputs": [],
   "source": []
  },
  {
   "cell_type": "code",
   "execution_count": null,
   "metadata": {},
   "outputs": [],
   "source": []
  },
  {
   "cell_type": "code",
   "execution_count": null,
   "metadata": {},
   "outputs": [],
   "source": []
  },
  {
   "cell_type": "code",
   "execution_count": null,
   "metadata": {},
   "outputs": [],
   "source": []
  },
  {
   "cell_type": "code",
   "execution_count": null,
   "metadata": {},
   "outputs": [],
   "source": []
  },
  {
   "cell_type": "code",
   "execution_count": null,
   "metadata": {},
   "outputs": [],
   "source": []
  },
  {
   "cell_type": "code",
   "execution_count": null,
   "metadata": {},
   "outputs": [],
   "source": []
  },
  {
   "cell_type": "code",
   "execution_count": null,
   "metadata": {},
   "outputs": [],
   "source": []
  },
  {
   "attachments": {},
   "cell_type": "markdown",
   "metadata": {},
   "source": [
    "# *End of Page*"
   ]
  }
 ],
 "metadata": {
  "kernelspec": {
   "display_name": "Python 3.9.13 64-bit",
   "language": "python",
   "name": "python3"
  },
  "language_info": {
   "codemirror_mode": {
    "name": "ipython",
    "version": 3
   },
   "file_extension": ".py",
   "mimetype": "text/x-python",
   "name": "python",
   "nbconvert_exporter": "python",
   "pygments_lexer": "ipython3",
   "version": "3.11.4"
  },
  "orig_nbformat": 4,
  "vscode": {
   "interpreter": {
    "hash": "11938c6bc6919ae2720b4d5011047913343b08a43b18698fd82dedb0d4417594"
   }
  }
 },
 "nbformat": 4,
 "nbformat_minor": 2
}
