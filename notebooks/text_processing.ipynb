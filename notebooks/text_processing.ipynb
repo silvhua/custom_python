{
 "cells": [
  {
   "attachments": {},
   "cell_type": "markdown",
   "metadata": {},
   "source": [
    "# Title\n",
    "[]()"
   ]
  },
  {
   "cell_type": "markdown",
   "metadata": {},
   "source": [
    "# `replace_whitespace_with_commas`"
   ]
  },
  {
   "cell_type": "code",
   "execution_count": 9,
   "metadata": {},
   "outputs": [
    {
     "name": "stdout",
     "output_type": "stream",
     "text": [
      "Length of list: 79\n"
     ]
    },
    {
     "data": {
      "text/plain": [
       "['10',\n",
       " '31',\n",
       " '121',\n",
       " '129',\n",
       " '134',\n",
       " '135',\n",
       " '163',\n",
       " '186',\n",
       " '206',\n",
       " '207',\n",
       " '259',\n",
       " '271',\n",
       " '273',\n",
       " '307',\n",
       " '313',\n",
       " '324',\n",
       " '345',\n",
       " '363',\n",
       " '386',\n",
       " '403',\n",
       " '439',\n",
       " '445',\n",
       " '446',\n",
       " '447',\n",
       " '451',\n",
       " '457',\n",
       " '460',\n",
       " '486',\n",
       " '487',\n",
       " '499',\n",
       " '500',\n",
       " '529',\n",
       " '625',\n",
       " '627',\n",
       " '632',\n",
       " '670',\n",
       " '729',\n",
       " '775',\n",
       " '825',\n",
       " '826',\n",
       " '847',\n",
       " '848',\n",
       " '849',\n",
       " '902',\n",
       " '917',\n",
       " '918',\n",
       " '973',\n",
       " '1001',\n",
       " '1014',\n",
       " '1015',\n",
       " '1028',\n",
       " '1030',\n",
       " '1056',\n",
       " '1132',\n",
       " '1180',\n",
       " '1181',\n",
       " '1194',\n",
       " '1196',\n",
       " '1198',\n",
       " '1204',\n",
       " '1208',\n",
       " '1209',\n",
       " '1211',\n",
       " '1212',\n",
       " '1213',\n",
       " '1281',\n",
       " '1303',\n",
       " '1305',\n",
       " '1346',\n",
       " '1361',\n",
       " '1364',\n",
       " '1389',\n",
       " '1399',\n",
       " '1400',\n",
       " '1410',\n",
       " '1411',\n",
       " '1414',\n",
       " '1522',\n",
       " '1563']"
      ]
     },
     "execution_count": 9,
     "metadata": {},
     "output_type": "execute_result"
    }
   ],
   "source": [
    "import re\n",
    "\n",
    "def replace_whitespace_with_commas(string):\n",
    "    result = re.sub(r\"\\s+\", \", \", string.strip())\n",
    "    return result\n",
    "\n",
    "def string_to_list(string):\n",
    "    result = replace_whitespace_with_commas(string).split(', ')\n",
    "    print(f'Length of list: {len(result)}')\n",
    "    return result\n",
    "\n",
    "string = \"\"\"\n",
    "10\n",
    "31\n",
    "121\n",
    "129\n",
    "134\n",
    "135\n",
    "163\n",
    "186\n",
    "206\n",
    "207\n",
    "259\n",
    "271\n",
    "273\n",
    "307\n",
    "313\n",
    "324\n",
    "345\n",
    "363\n",
    "386\n",
    "403\n",
    "439\n",
    "445\n",
    "446\n",
    "447\n",
    "451\n",
    "457\n",
    "460\n",
    "486\n",
    "487\n",
    "499\n",
    "500\n",
    "529\n",
    "625\n",
    "627\n",
    "632\n",
    "670\n",
    "729\n",
    "775\n",
    "825\n",
    "826\n",
    "847\n",
    "848\n",
    "849\n",
    "902\n",
    "917\n",
    "918\n",
    "973\n",
    "1001\n",
    "1014\n",
    "1015\n",
    "1028\n",
    "1030\n",
    "1056\n",
    "1132\n",
    "1180\n",
    "1181\n",
    "1194\n",
    "1196\n",
    "1198\n",
    "1204\n",
    "1208\n",
    "1209\n",
    "1211\n",
    "1212\n",
    "1213\n",
    "1281\n",
    "1303\n",
    "1305\n",
    "1346\n",
    "1361\n",
    "1364\n",
    "1389\n",
    "1399\n",
    "1400\n",
    "1410\n",
    "1411\n",
    "1414\n",
    "1522\n",
    "1563\n",
    "\"\"\"\n",
    "\n",
    "replace_whitespace_with_commas(string)\n",
    "\n",
    "\n",
    "string_to_list(string)"
   ]
  },
  {
   "cell_type": "markdown",
   "metadata": {},
   "source": [
    "# `text_to_markdown_table`"
   ]
  },
  {
   "cell_type": "code",
   "execution_count": 7,
   "metadata": {},
   "outputs": [
    {
     "name": "stdout",
     "output_type": "stream",
     "text": [
      "\n",
      "measure\tprofits\tprofits_change\trevenues_change\n",
      "profits\t1.00\t0.02\t0.02\n",
      "profits_change\t0.02\t1.00\t-0.09\n",
      "revenues_change\t0.02\t-0.09\t1.00\n",
      "\n"
     ]
    }
   ],
   "source": [
    "table_string = \"\"\"\n",
    "measure\tprofits\tprofits_change\trevenues_change\n",
    "profits\t1.00\t0.02\t0.02\n",
    "profits_change\t0.02\t1.00\t-0.09\n",
    "revenues_change\t0.02\t-0.09\t1.00\n",
    "\"\"\"\n",
    "print(table_string)"
   ]
  },
  {
   "cell_type": "code",
   "execution_count": 8,
   "metadata": {},
   "outputs": [
    {
     "name": "stdout",
     "output_type": "stream",
     "text": [
      "| measure | profits | profits_change | revenues_change |\n",
      "| --- | --- | --- | --- |\n",
      "| profits | 1.00 | 0.02 | 0.02 |\n",
      "| profits_change | 0.02 | 1.00 | -0.09 |\n",
      "| revenues_change | 0.02 | -0.09 | 1.00 |\n"
     ]
    }
   ],
   "source": [
    "def text_to_markdown_table(table_string):\n",
    "    lines = table_string.strip().split(\"\\n\")\n",
    "    header = lines[0].split(\"\\t\")\n",
    "    rows = [line.split(\"\\t\") for line in lines[1:]]\n",
    "    return \"\\n\".join([\n",
    "        \"| \" + \" | \".join(header) + \" |\",\n",
    "        \"| \" + \" | \".join([\"---\"] * len(header)) + \" |\",\n",
    "        \"\\n\".join([\n",
    "            \"| \" + \" | \".join(row) + \" |\"\n",
    "            for row in rows\n",
    "        ])\n",
    "    ])\n",
    "\n",
    "print(text_to_markdown_table(table_string))"
   ]
  },
  {
   "cell_type": "code",
   "execution_count": 9,
   "metadata": {},
   "outputs": [
    {
     "name": "stdout",
     "output_type": "stream",
     "text": [
      "Help on function text_to_markdown_table in module __main__:\n",
      "\n",
      "text_to_markdown_table(table_string)\n",
      "\n"
     ]
    }
   ],
   "source": [
    "help(text_to_markdown_table)"
   ]
  },
  {
   "cell_type": "code",
   "execution_count": null,
   "metadata": {},
   "outputs": [],
   "source": []
  },
  {
   "cell_type": "code",
   "execution_count": null,
   "metadata": {},
   "outputs": [],
   "source": []
  },
  {
   "cell_type": "code",
   "execution_count": null,
   "metadata": {},
   "outputs": [],
   "source": []
  },
  {
   "cell_type": "code",
   "execution_count": null,
   "metadata": {},
   "outputs": [],
   "source": []
  },
  {
   "cell_type": "code",
   "execution_count": null,
   "metadata": {},
   "outputs": [],
   "source": []
  },
  {
   "cell_type": "code",
   "execution_count": null,
   "metadata": {},
   "outputs": [],
   "source": []
  },
  {
   "cell_type": "code",
   "execution_count": null,
   "metadata": {},
   "outputs": [],
   "source": []
  },
  {
   "cell_type": "code",
   "execution_count": null,
   "metadata": {},
   "outputs": [],
   "source": []
  },
  {
   "cell_type": "code",
   "execution_count": null,
   "metadata": {},
   "outputs": [],
   "source": []
  },
  {
   "cell_type": "code",
   "execution_count": null,
   "metadata": {},
   "outputs": [],
   "source": []
  },
  {
   "cell_type": "code",
   "execution_count": null,
   "metadata": {},
   "outputs": [],
   "source": []
  },
  {
   "cell_type": "code",
   "execution_count": null,
   "metadata": {},
   "outputs": [],
   "source": []
  },
  {
   "cell_type": "code",
   "execution_count": null,
   "metadata": {},
   "outputs": [],
   "source": []
  },
  {
   "cell_type": "code",
   "execution_count": null,
   "metadata": {},
   "outputs": [],
   "source": []
  },
  {
   "cell_type": "code",
   "execution_count": null,
   "metadata": {},
   "outputs": [],
   "source": []
  },
  {
   "cell_type": "code",
   "execution_count": null,
   "metadata": {},
   "outputs": [],
   "source": []
  },
  {
   "attachments": {},
   "cell_type": "markdown",
   "metadata": {},
   "source": [
    "# *End of Page*"
   ]
  }
 ],
 "metadata": {
  "kernelspec": {
   "display_name": "Python 3.9.13 64-bit",
   "language": "python",
   "name": "python3"
  },
  "language_info": {
   "codemirror_mode": {
    "name": "ipython",
    "version": 3
   },
   "file_extension": ".py",
   "mimetype": "text/x-python",
   "name": "python",
   "nbconvert_exporter": "python",
   "pygments_lexer": "ipython3",
   "version": "3.11.4"
  },
  "orig_nbformat": 4,
  "vscode": {
   "interpreter": {
    "hash": "11938c6bc6919ae2720b4d5011047913343b08a43b18698fd82dedb0d4417594"
   }
  }
 },
 "nbformat": 4,
 "nbformat_minor": 2
}
