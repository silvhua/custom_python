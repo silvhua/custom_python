{
 "cells": [
  {
   "attachments": {},
   "cell_type": "markdown",
   "metadata": {},
   "source": [
    "# Title\n",
    "[]()"
   ]
  },
  {
   "cell_type": "code",
   "execution_count": 2,
   "metadata": {},
   "outputs": [],
   "source": [
    "\n",
    "import pandas as pd\n",
    "import sys\n",
    "sys.path.append(r\"C:\\Users\\silvh\\OneDrive\\lighthouse\\custom_python\")\n",
    "# sys.path.append(r'C:\\Users\\silvh\\OneDrive\\lighthouse\\portfolio-projects\\GHL-chat\\src\\app')\n",
    "from silvhua import *\n",
    "# from datetime import datetime\n",
    "# sys.path.append(r\"C:\\Users\\silvh\\OneDrive\\lighthouse\\portfolio-projects\\online-PT-social-media-NLP\\src\")"
   ]
  },
  {
   "cell_type": "code",
   "execution_count": 3,
   "metadata": {},
   "outputs": [],
   "source": [
    "# set the option to wrap text within cells\n",
    "pd.set_option('display.max_colwidth', 100)\n",
    "# pd.set_option('display.max_colwidth', None)\n",
    "pd.set_option('display.max_rows', 20)\n",
    "pd.set_option('display.max_columns', None)\n",
    "pd.set_option('display.width', None)"
   ]
  },
  {
   "cell_type": "markdown",
   "metadata": {},
   "source": [
    "## Insert Sort"
   ]
  },
  {
   "cell_type": "code",
   "execution_count": 11,
   "metadata": {},
   "outputs": [
    {
     "name": "stdout",
     "output_type": "stream",
     "text": [
      "[(5, 'apple'), (2, 'banana'), (9, 'cherry')]\n",
      "[(2, 'banana'), (5, 'apple'), (9, 'cherry')]\n",
      "[(2, 'banana'), (5, 'apple'), (9, 'cherry')]\n"
     ]
    },
    {
     "data": {
      "text/plain": [
       "[[(2, 'banana'), (5, 'apple'), (9, 'cherry')],\n",
       " [(2, 'banana'), (5, 'apple'), (9, 'cherry')],\n",
       " [(2, 'banana'), (5, 'apple'), (9, 'cherry')]]"
      ]
     },
     "execution_count": 11,
     "metadata": {},
     "output_type": "execute_result"
    }
   ],
   "source": [
    "from collections import defaultdict\n",
    "from typing import List\n",
    "\n",
    "# Definition for a pair.\n",
    "\n",
    "class Solution:\n",
    "    def insertionSort(self, pairs):\n",
    "        result = []\n",
    "        for i in range(len(pairs)):\n",
    "            j = i - 1\n",
    "\n",
    "            while (j >= 0 and pairs[j][0] > pairs[j + 1][0]):\n",
    "                temp = pairs[j + 1]\n",
    "                pairs[j + 1] = pairs[j]\n",
    "                pairs[j] = temp\n",
    "                j -= 1\n",
    "            print(pairs)\n",
    "            result.append(pairs)\n",
    "\n",
    "        return result\n",
    "\n",
    "pairs=[(5, \"apple\"), (2, \"banana\"), (9, \"cherry\")]\n",
    "solution = Solution()\n",
    "solution.insertionSort(pairs)"
   ]
  },
  {
   "cell_type": "markdown",
   "metadata": {},
   "source": [
    "## Merge Sort"
   ]
  },
  {
   "cell_type": "code",
   "execution_count": 38,
   "metadata": {},
   "outputs": [
    {
     "name": "stdout",
     "output_type": "stream",
     "text": [
      "\t\t\t\tmergeSort: [3, 2, 4, 1, 6], 0: 4\n",
      "\t\t\t\t\tm: 2\n",
      "\t\t\tSort the left half\n",
      "\t\t\t\tmergeSort: [3, 2, 4, 1, 6], 0: 2\n",
      "\t\t\t\t\tm: 1\n",
      "\t\t\tSort the left half\n",
      "\t\t\t\tmergeSort: [3, 2, 4, 1, 6], 0: 1\n",
      "\t\t\t\t\tm: 0\n",
      "\t\t\tSort the left half\n",
      "\t\t\t\tmergeSort: [3, 2, 4, 1, 6], 0: 0\n",
      "\t\treturning arr: [3, 2, 4, 1, 6]\n",
      "\t\t\tSort the right half\n",
      "\t\t\t\tmergeSort: [3, 2, 4, 1, 6], 1: 1\n",
      "\t\treturning arr: [3, 2, 4, 1, 6]\n",
      "\tMerging: [3, 2, 4, 1, 6],  s: 0, m: 0, e: 1\n",
      "\t\tL: [3], R: [2]\n",
      "**Resulting array: [2, 3, 4, 1, 6]\n",
      "\t\t\tSort the right half\n",
      "\t\t\t\tmergeSort: [2, 3, 4, 1, 6], 2: 2\n",
      "\t\treturning arr: [2, 3, 4, 1, 6]\n",
      "\tMerging: [2, 3, 4, 1, 6],  s: 0, m: 1, e: 2\n",
      "\t\tL: [2, 3], R: [4]\n",
      "**Resulting array: [2, 3, 4, 1, 6]\n",
      "\t\t\tSort the right half\n",
      "\t\t\t\tmergeSort: [2, 3, 4, 1, 6], 3: 4\n",
      "\t\t\t\t\tm: 3\n",
      "\t\t\tSort the left half\n",
      "\t\t\t\tmergeSort: [2, 3, 4, 1, 6], 3: 3\n",
      "\t\treturning arr: [2, 3, 4, 1, 6]\n",
      "\t\t\tSort the right half\n",
      "\t\t\t\tmergeSort: [2, 3, 4, 1, 6], 4: 4\n",
      "\t\treturning arr: [2, 3, 4, 1, 6]\n",
      "\tMerging: [2, 3, 4, 1, 6],  s: 3, m: 3, e: 4\n",
      "\t\tL: [1], R: [6]\n",
      "**Resulting array: [2, 3, 4, 1, 6]\n",
      "\tMerging: [2, 3, 4, 1, 6],  s: 0, m: 2, e: 4\n",
      "\t\tL: [2, 3, 4], R: [1, 6]\n",
      "**Resulting array: [1, 2, 3, 4, 6]\n"
     ]
    },
    {
     "data": {
      "text/plain": [
       "[1, 2, 3, 4, 6]"
      ]
     },
     "execution_count": 38,
     "metadata": {},
     "output_type": "execute_result"
    }
   ],
   "source": [
    "from typing import List\n",
    "from collections import namedtuple\n",
    "# Definition for a pair.\n",
    "class Pair:\n",
    "    def __init__(self, key: int, value: str):\n",
    "        pair = namedtuple('Pair', ('key', 'value'))\n",
    "        return pair\n",
    "\n",
    "# Merge in-place\n",
    "def merge(arr, s, m, e):\n",
    "    print(f'\\tMerging: {arr},  s: {s}, m: {m}, e: {e}')\n",
    "    # Copy the sorted left & right halfs to temp arrays\n",
    "    L = arr[s: m + 1]\n",
    "    R = arr[m + 1: e + 1]\n",
    "    print(f'\\t\\tL: {L}, R: {R}')\n",
    "\n",
    "    i = 0 # index for L\n",
    "    j = 0 # index for R\n",
    "    k = s # index for arr\n",
    "\n",
    "    # Merge the two sorted halfs into the original array\n",
    "    while i < len(L) and j < len(R):\n",
    "        if L[i] <= R[j]:\n",
    "            arr[k] = L[i]\n",
    "            i += 1\n",
    "        else:\n",
    "            arr[k] = R[j]\n",
    "            j += 1\n",
    "        k += 1\n",
    "\n",
    "    # One of the halfs will have elements remaining\n",
    "    while i < len(L):\n",
    "        arr[k] = L[i]\n",
    "        i += 1\n",
    "        k += 1\n",
    "    while j < len(R):\n",
    "        arr[k] = R[j]\n",
    "        j += 1\n",
    "        k += 1\n",
    "\n",
    "def mergeSort(arr, s, e):\n",
    "    print(f'\\t\\t\\t\\tmergeSort: {arr}, {s}: {e}')\n",
    "    if e - s + 1 <= 1:\n",
    "        print('\\t\\treturning arr:', arr)\n",
    "        return arr\n",
    "\n",
    "    # The middle index of the array\n",
    "    m = (s + e) // 2\n",
    "    print('\\t\\t\\t\\t\\tm:', m)\n",
    "\n",
    "    # Sort the left half\n",
    "    print('\\t\\t\\tSort the left half')\n",
    "    mergeSort(arr, s, m)\n",
    "\n",
    "    # Sort the right half\n",
    "    print('\\t\\t\\tSort the right half')\n",
    "    mergeSort(arr, m + 1, e)\n",
    "\n",
    "    # Merge sorted halfs\n",
    "    merge(arr, s, m, e)\n",
    "    print(f'**Resulting array: {arr}')\n",
    "    return arr\n",
    "\n",
    "arr = [3,2,4,1,6]\n",
    "mergeSort(arr, 0, 4)"
   ]
  },
  {
   "cell_type": "code",
   "execution_count": null,
   "metadata": {},
   "outputs": [],
   "source": [
    "\n",
    "    \n",
    "# class Solution:\n",
    "\n",
    "#     def mergeSort(self, pairs: List[Pair]) -> List[Pair]:\n",
    "#         middle_index = len(pairs) // 2\n",
    "#         left = pairs[:middle_index]\n",
    "#         right = pairs[middle_index:]\n",
    "#         print('left:', left)\n",
    "#         print('right:', right)\n",
    "        \n",
    "#         if len(left) > 1:\n",
    "#             self.mergeSort(left)\n",
    "#         if len(right) > 1:\n",
    "#             self.mergeSort(right)\n",
    "\n",
    "#     def merge()\n",
    "\n",
    "\n",
    "# pairs=[(5, \"apple\"), (2, \"banana\"), (9, \"cherry\")]\n",
    "# solution = Solution()\n",
    "# solution.mergeSort(pairs)"
   ]
  },
  {
   "cell_type": "code",
   "execution_count": null,
   "metadata": {},
   "outputs": [],
   "source": []
  },
  {
   "cell_type": "code",
   "execution_count": null,
   "metadata": {},
   "outputs": [],
   "source": []
  },
  {
   "cell_type": "code",
   "execution_count": null,
   "metadata": {},
   "outputs": [],
   "source": []
  },
  {
   "cell_type": "code",
   "execution_count": null,
   "metadata": {},
   "outputs": [],
   "source": []
  },
  {
   "cell_type": "code",
   "execution_count": null,
   "metadata": {},
   "outputs": [],
   "source": []
  },
  {
   "cell_type": "code",
   "execution_count": null,
   "metadata": {},
   "outputs": [],
   "source": []
  },
  {
   "cell_type": "code",
   "execution_count": null,
   "metadata": {},
   "outputs": [],
   "source": []
  },
  {
   "cell_type": "code",
   "execution_count": null,
   "metadata": {},
   "outputs": [],
   "source": []
  },
  {
   "cell_type": "code",
   "execution_count": null,
   "metadata": {},
   "outputs": [],
   "source": []
  },
  {
   "cell_type": "code",
   "execution_count": null,
   "metadata": {},
   "outputs": [],
   "source": []
  },
  {
   "cell_type": "code",
   "execution_count": null,
   "metadata": {},
   "outputs": [],
   "source": []
  },
  {
   "cell_type": "code",
   "execution_count": null,
   "metadata": {},
   "outputs": [],
   "source": []
  },
  {
   "cell_type": "code",
   "execution_count": null,
   "metadata": {},
   "outputs": [],
   "source": []
  },
  {
   "cell_type": "code",
   "execution_count": null,
   "metadata": {},
   "outputs": [],
   "source": []
  },
  {
   "cell_type": "code",
   "execution_count": null,
   "metadata": {},
   "outputs": [],
   "source": []
  },
  {
   "cell_type": "code",
   "execution_count": null,
   "metadata": {},
   "outputs": [],
   "source": []
  },
  {
   "cell_type": "code",
   "execution_count": null,
   "metadata": {},
   "outputs": [],
   "source": []
  },
  {
   "cell_type": "code",
   "execution_count": null,
   "metadata": {},
   "outputs": [],
   "source": []
  },
  {
   "attachments": {},
   "cell_type": "markdown",
   "metadata": {},
   "source": [
    "# *End of Page*"
   ]
  }
 ],
 "metadata": {
  "kernelspec": {
   "display_name": "base",
   "language": "python",
   "name": "python3"
  },
  "language_info": {
   "codemirror_mode": {
    "name": "ipython",
    "version": 3
   },
   "file_extension": ".py",
   "mimetype": "text/x-python",
   "name": "python",
   "nbconvert_exporter": "python",
   "pygments_lexer": "ipython3",
   "version": "3.12.4"
  },
  "orig_nbformat": 4
 },
 "nbformat": 4,
 "nbformat_minor": 2
}
